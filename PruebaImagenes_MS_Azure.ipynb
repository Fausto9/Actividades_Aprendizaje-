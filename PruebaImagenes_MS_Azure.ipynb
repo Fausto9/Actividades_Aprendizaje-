{
  "nbformat": 4,
  "nbformat_minor": 0,
  "metadata": {
    "colab": {
      "provenance": [],
      "authorship_tag": "ABX9TyNr137Zw8txcjnC/4rIyNHQ",
      "include_colab_link": true
    },
    "kernelspec": {
      "name": "python3",
      "display_name": "Python 3"
    },
    "language_info": {
      "name": "python"
    }
  },
  "cells": [
    {
      "cell_type": "markdown",
      "metadata": {
        "id": "view-in-github",
        "colab_type": "text"
      },
      "source": [
        "<a href=\"https://colab.research.google.com/github/Fausto9/Actividades_Aprendizaje-/blob/main/PruebaImagenes_MS_Azure.ipynb\" target=\"_parent\"><img src=\"https://colab.research.google.com/assets/colab-badge.svg\" alt=\"Open In Colab\"/></a>"
      ]
    },
    {
      "cell_type": "code",
      "execution_count": 1,
      "metadata": {
        "id": "cgtrEImBACyO"
      },
      "outputs": [],
      "source": [
        "import json, os, requests"
      ]
    },
    {
      "cell_type": "code",
      "source": [
        "#Se crea una variable y se le asigna el valor de la key del servicio de Azure CS\n",
        "subscription_key = \"d8943a31fd5d44cf8c81b13ab0de5add\"\n",
        "\n",
        "#se crea una variable y se asigna el valor de la url o endpoint del servicio de CS\n",
        "face_api_url = \"https://frmna23.cognitiveservices.azure.com/\" + \"/face/v1.0/detect\"\n",
        "\n",
        "\n",
        "#se genera una variable y se asigna el path de la imagen\n",
        "image_url = \"https://raw.githubusercontent.com/ecendejas/imgMNA/main/faces.jpg\"\n",
        "\n",
        "# Se crea un diccionario para generar el request y se pasa el valor de la subsciption key previamente creado\n",
        "headers = {\"Ocp-Apim-Subscription-key\": subscription_key}\n",
        "\n",
        "#Se setean los parametros de Facid y Facelandmarks en False \n",
        "params = {\n",
        "    'returnFaceid' : 'false',\n",
        "    'returnFacelandmarks': 'false',\n",
        "}\n",
        "#returnFaceAtributes: 'Age, gender , headpose, simle, facialhair, glasses , emotion'\n",
        "\n",
        "#\n",
        "response = requests.post(face_api_url,params=params, headers=headers, json={\"url\": image_url})\n",
        "print(json.dumps(response.json()))\n",
        "\n",
        "\n"
      ],
      "metadata": {
        "colab": {
          "base_uri": "https://localhost:8080/"
        },
        "id": "LgfQZGpBAGg8",
        "outputId": "42469536-0c30-41df-ee98-748bf84b7b91"
      },
      "execution_count": 4,
      "outputs": [
        {
          "output_type": "stream",
          "name": "stdout",
          "text": [
            "[{\"faceRectangle\": {\"top\": 159, \"left\": 118, \"width\": 94, \"height\": 94}}, {\"faceRectangle\": {\"top\": 111, \"left\": 492, \"width\": 90, \"height\": 90}}, {\"faceRectangle\": {\"top\": 153, \"left\": 18, \"width\": 84, \"height\": 84}}, {\"faceRectangle\": {\"top\": 166, \"left\": 386, \"width\": 81, \"height\": 81}}, {\"faceRectangle\": {\"top\": 158, \"left\": 235, \"width\": 76, \"height\": 76}}, {\"faceRectangle\": {\"top\": 163, \"left\": 323, \"width\": 68, \"height\": 68}}]\n"
          ]
        }
      ]
    },
    {
      "cell_type": "markdown",
      "source": [
        "# Interpretacion del Outpu del codigo\n",
        "\n",
        "**Cada facereREctangle indica la deteccion de una cara y los atributos dentro de top, left widht height indica la ubicacion exacta de cada cara***"
      ],
      "metadata": {
        "id": "8IZgdd29Db41"
      }
    },
    {
      "cell_type": "code",
      "source": [],
      "metadata": {
        "id": "RGHIPMLCDF3t"
      },
      "execution_count": null,
      "outputs": []
    }
  ]
}