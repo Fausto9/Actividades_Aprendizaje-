{
  "cells": [
    {
      "cell_type": "markdown",
      "metadata": {
        "id": "view-in-github",
        "colab_type": "text"
      },
      "source": [
        "<a href=\"https://colab.research.google.com/github/Fausto9/Actividades_Aprendizaje-/blob/main/SVD_Equipo40.ipynb\" target=\"_parent\"><img src=\"https://colab.research.google.com/assets/colab-badge.svg\" alt=\"Open In Colab\"/></a>"
      ]
    },
    {
      "cell_type": "markdown",
      "metadata": {
        "id": "VFj0sSM06dYa"
      },
      "source": [
        "#**Maestría en Inteligencia Artificial Aplicada**\n",
        "##**Curso: Inteligencia Artificial y Aprendizaje Automático**\n",
        "###Tecnológico de Monterrey\n",
        "###Prof Luis Eduardo Falcón Morales\n",
        "\n",
        "## **Adtividad de la Semana 10**\n",
        "###**Reducción de Dimensionalidad - Descomposición en Valores Singulares (SVD) y Sistemas de Recomendación**\n"
      ]
    },
    {
      "cell_type": "markdown",
      "metadata": {
        "id": "Qgrvy0RGB9XI"
      },
      "source": [
        "**Nombres y matrículas de los integrantes del equipo:**\n",
        "\n",
        "- Alexis Hernández Martínez. Matrícula # A01016308\n",
        "- José Fabricio Barahona Amaya. Matrícula # A01792950\n",
        "- Giovanni Andrés Acuña Morales. Matrícula #A01794007\n",
        "- Fernando Acevedo Ortegate. Matrícula # A01794022\n",
        "- Fausto Velasco Atilano. Matricula #A01794392\n"
      ]
    },
    {
      "cell_type": "markdown",
      "metadata": {
        "id": "FrJ2ahMODVj1"
      },
      "source": [
        "En cada sección deberás incluir todas las líneas de código necesarias para responder a cada uno de los ejercicios."
      ]
    },
    {
      "cell_type": "code",
      "execution_count": null,
      "metadata": {
        "id": "exXsscs-Dh-2"
      },
      "outputs": [],
      "source": [
        "import numpy as np\n",
        "import pandas as pd\n",
        "\n",
        "from sklearn.decomposition import TruncatedSVD\n"
      ]
    },
    {
      "cell_type": "markdown",
      "metadata": {
        "id": "X25brD-gQdZM"
      },
      "source": [
        "#**Ejercicio-1.** \n",
        "\n",
        "1. Descarga los archivos y genera la matriz de utilidad en la cual los renglones son los usuarios (user_ID), las columnas los nombres de los restaurantes (name) y las entradas la evaluaciones generales dadas por los usuarios (rating). En particular indica el tamaño de dicha matriz y despliega sus primeros 10 renglones."
      ]
    },
    {
      "cell_type": "code",
      "execution_count": null,
      "metadata": {
        "id": "3nU2GuWYCy6C"
      },
      "outputs": [],
      "source": [
        "url1='/Users/alexishema/Downloads/RCdata/geoplaces2.csv'\n",
        "url2='/Users/alexishema/Downloads/RCdata/rating_final.csv'"
      ]
    },
    {
      "cell_type": "code",
      "execution_count": null,
      "metadata": {
        "id": "0ulkqXVGCy97"
      },
      "outputs": [],
      "source": [
        "geo = pd.read_csv(url1,  sep=\",\",encoding='latin-1',header=0)  \n",
        "ratings = pd.read_csv(url2,  sep=\",\",encoding='latin-1',header=0) \n"
      ]
    },
    {
      "cell_type": "code",
      "execution_count": null,
      "metadata": {
        "id": "zONc6MC3hAph",
        "outputId": "31b1f584-2c62-4cde-e05b-f49cf8adc01a"
      },
      "outputs": [
        {
          "name": "stdout",
          "output_type": "stream",
          "text": [
            "<class 'pandas.core.frame.DataFrame'>\n",
            "RangeIndex: 1161 entries, 0 to 1160\n",
            "Data columns (total 5 columns):\n",
            " #   Column          Non-Null Count  Dtype \n",
            "---  ------          --------------  ----- \n",
            " 0   userID          1161 non-null   object\n",
            " 1   placeID         1161 non-null   int64 \n",
            " 2   rating          1161 non-null   int64 \n",
            " 3   food_rating     1161 non-null   int64 \n",
            " 4   service_rating  1161 non-null   int64 \n",
            "dtypes: int64(4), object(1)\n",
            "memory usage: 45.5+ KB\n"
          ]
        }
      ],
      "source": [
        "ratings.info()"
      ]
    },
    {
      "cell_type": "code",
      "execution_count": null,
      "metadata": {
        "id": "jef98JhAhApi",
        "outputId": "842e7e0f-d77f-4802-f188-93f44124e687"
      },
      "outputs": [
        {
          "name": "stdout",
          "output_type": "stream",
          "text": [
            "<class 'pandas.core.frame.DataFrame'>\n",
            "RangeIndex: 130 entries, 0 to 129\n",
            "Data columns (total 21 columns):\n",
            " #   Column          Non-Null Count  Dtype  \n",
            "---  ------          --------------  -----  \n",
            " 0   placeID         130 non-null    int64  \n",
            " 1   latitude        130 non-null    float64\n",
            " 2   longitude       130 non-null    float64\n",
            " 3   the_geom_meter  130 non-null    object \n",
            " 4   name            130 non-null    object \n",
            " 5   address         130 non-null    object \n",
            " 6   city            130 non-null    object \n",
            " 7   state           130 non-null    object \n",
            " 8   country         130 non-null    object \n",
            " 9   fax             130 non-null    object \n",
            " 10  zip             130 non-null    object \n",
            " 11  alcohol         130 non-null    object \n",
            " 12  smoking_area    130 non-null    object \n",
            " 13  dress_code      130 non-null    object \n",
            " 14  accessibility   130 non-null    object \n",
            " 15  price           130 non-null    object \n",
            " 16  url             130 non-null    object \n",
            " 17  Rambience       130 non-null    object \n",
            " 18  franchise       130 non-null    object \n",
            " 19  area            130 non-null    object \n",
            " 20  other_services  130 non-null    object \n",
            "dtypes: float64(2), int64(1), object(18)\n",
            "memory usage: 21.5+ KB\n"
          ]
        }
      ],
      "source": [
        "geo.info()"
      ]
    },
    {
      "cell_type": "code",
      "execution_count": null,
      "metadata": {
        "id": "MEfsVjlDhApj",
        "outputId": "8b189512-a2d6-4cfe-fa75-20f737f27e77"
      },
      "outputs": [
        {
          "data": {
            "text/html": [
              "<div>\n",
              "<style scoped>\n",
              "    .dataframe tbody tr th:only-of-type {\n",
              "        vertical-align: middle;\n",
              "    }\n",
              "\n",
              "    .dataframe tbody tr th {\n",
              "        vertical-align: top;\n",
              "    }\n",
              "\n",
              "    .dataframe thead th {\n",
              "        text-align: right;\n",
              "    }\n",
              "</style>\n",
              "<table border=\"1\" class=\"dataframe\">\n",
              "  <thead>\n",
              "    <tr style=\"text-align: right;\">\n",
              "      <th></th>\n",
              "      <th>placeID</th>\n",
              "      <th>rating</th>\n",
              "      <th>food_rating</th>\n",
              "      <th>service_rating</th>\n",
              "    </tr>\n",
              "  </thead>\n",
              "  <tbody>\n",
              "    <tr>\n",
              "      <th>count</th>\n",
              "      <td>1161.000000</td>\n",
              "      <td>1161.000000</td>\n",
              "      <td>1161.000000</td>\n",
              "      <td>1161.000000</td>\n",
              "    </tr>\n",
              "    <tr>\n",
              "      <th>mean</th>\n",
              "      <td>134192.041344</td>\n",
              "      <td>1.199828</td>\n",
              "      <td>1.215332</td>\n",
              "      <td>1.090439</td>\n",
              "    </tr>\n",
              "    <tr>\n",
              "      <th>std</th>\n",
              "      <td>1100.916275</td>\n",
              "      <td>0.773282</td>\n",
              "      <td>0.792294</td>\n",
              "      <td>0.790844</td>\n",
              "    </tr>\n",
              "    <tr>\n",
              "      <th>min</th>\n",
              "      <td>132560.000000</td>\n",
              "      <td>0.000000</td>\n",
              "      <td>0.000000</td>\n",
              "      <td>0.000000</td>\n",
              "    </tr>\n",
              "    <tr>\n",
              "      <th>25%</th>\n",
              "      <td>132856.000000</td>\n",
              "      <td>1.000000</td>\n",
              "      <td>1.000000</td>\n",
              "      <td>0.000000</td>\n",
              "    </tr>\n",
              "    <tr>\n",
              "      <th>50%</th>\n",
              "      <td>135030.000000</td>\n",
              "      <td>1.000000</td>\n",
              "      <td>1.000000</td>\n",
              "      <td>1.000000</td>\n",
              "    </tr>\n",
              "    <tr>\n",
              "      <th>75%</th>\n",
              "      <td>135059.000000</td>\n",
              "      <td>2.000000</td>\n",
              "      <td>2.000000</td>\n",
              "      <td>2.000000</td>\n",
              "    </tr>\n",
              "    <tr>\n",
              "      <th>max</th>\n",
              "      <td>135109.000000</td>\n",
              "      <td>2.000000</td>\n",
              "      <td>2.000000</td>\n",
              "      <td>2.000000</td>\n",
              "    </tr>\n",
              "  </tbody>\n",
              "</table>\n",
              "</div>"
            ],
            "text/plain": [
              "             placeID       rating  food_rating  service_rating\n",
              "count    1161.000000  1161.000000  1161.000000     1161.000000\n",
              "mean   134192.041344     1.199828     1.215332        1.090439\n",
              "std      1100.916275     0.773282     0.792294        0.790844\n",
              "min    132560.000000     0.000000     0.000000        0.000000\n",
              "25%    132856.000000     1.000000     1.000000        0.000000\n",
              "50%    135030.000000     1.000000     1.000000        1.000000\n",
              "75%    135059.000000     2.000000     2.000000        2.000000\n",
              "max    135109.000000     2.000000     2.000000        2.000000"
            ]
          },
          "execution_count": 7,
          "metadata": {},
          "output_type": "execute_result"
        }
      ],
      "source": [
        "matriz_ratings_analisis = ratings[[ 'userID','placeID','rating','food_rating','service_rating']] \n",
        "matriz_ratings_analisis.describe()"
      ]
    },
    {
      "cell_type": "code",
      "execution_count": null,
      "metadata": {
        "id": "HEH7dJKPhApj"
      },
      "outputs": [],
      "source": [
        "matriz_ratings_grl = ratings[[ 'userID','rating','placeID']] \n",
        "matriz_geo_grl = geo[['name', 'placeID']] \n",
        "\n"
      ]
    },
    {
      "cell_type": "code",
      "execution_count": null,
      "metadata": {
        "id": "m101KRlDhApk",
        "outputId": "00d7bf0c-2214-46bc-cd88-bfa0c833da1f"
      },
      "outputs": [
        {
          "data": {
            "text/html": [
              "<div>\n",
              "<style scoped>\n",
              "    .dataframe tbody tr th:only-of-type {\n",
              "        vertical-align: middle;\n",
              "    }\n",
              "\n",
              "    .dataframe tbody tr th {\n",
              "        vertical-align: top;\n",
              "    }\n",
              "\n",
              "    .dataframe thead th {\n",
              "        text-align: right;\n",
              "    }\n",
              "</style>\n",
              "<table border=\"1\" class=\"dataframe\">\n",
              "  <thead>\n",
              "    <tr style=\"text-align: right;\">\n",
              "      <th></th>\n",
              "      <th>userID</th>\n",
              "      <th>rating</th>\n",
              "      <th>placeID</th>\n",
              "    </tr>\n",
              "  </thead>\n",
              "  <tbody>\n",
              "    <tr>\n",
              "      <th>0</th>\n",
              "      <td>U1077</td>\n",
              "      <td>2</td>\n",
              "      <td>135085</td>\n",
              "    </tr>\n",
              "    <tr>\n",
              "      <th>1</th>\n",
              "      <td>U1077</td>\n",
              "      <td>2</td>\n",
              "      <td>135038</td>\n",
              "    </tr>\n",
              "    <tr>\n",
              "      <th>2</th>\n",
              "      <td>U1077</td>\n",
              "      <td>2</td>\n",
              "      <td>132825</td>\n",
              "    </tr>\n",
              "    <tr>\n",
              "      <th>3</th>\n",
              "      <td>U1077</td>\n",
              "      <td>1</td>\n",
              "      <td>135060</td>\n",
              "    </tr>\n",
              "    <tr>\n",
              "      <th>4</th>\n",
              "      <td>U1068</td>\n",
              "      <td>1</td>\n",
              "      <td>135104</td>\n",
              "    </tr>\n",
              "    <tr>\n",
              "      <th>...</th>\n",
              "      <td>...</td>\n",
              "      <td>...</td>\n",
              "      <td>...</td>\n",
              "    </tr>\n",
              "    <tr>\n",
              "      <th>1156</th>\n",
              "      <td>U1043</td>\n",
              "      <td>1</td>\n",
              "      <td>132630</td>\n",
              "    </tr>\n",
              "    <tr>\n",
              "      <th>1157</th>\n",
              "      <td>U1011</td>\n",
              "      <td>1</td>\n",
              "      <td>132715</td>\n",
              "    </tr>\n",
              "    <tr>\n",
              "      <th>1158</th>\n",
              "      <td>U1068</td>\n",
              "      <td>1</td>\n",
              "      <td>132733</td>\n",
              "    </tr>\n",
              "    <tr>\n",
              "      <th>1159</th>\n",
              "      <td>U1068</td>\n",
              "      <td>1</td>\n",
              "      <td>132594</td>\n",
              "    </tr>\n",
              "    <tr>\n",
              "      <th>1160</th>\n",
              "      <td>U1068</td>\n",
              "      <td>0</td>\n",
              "      <td>132660</td>\n",
              "    </tr>\n",
              "  </tbody>\n",
              "</table>\n",
              "<p>1161 rows × 3 columns</p>\n",
              "</div>"
            ],
            "text/plain": [
              "     userID  rating  placeID\n",
              "0     U1077       2   135085\n",
              "1     U1077       2   135038\n",
              "2     U1077       2   132825\n",
              "3     U1077       1   135060\n",
              "4     U1068       1   135104\n",
              "...     ...     ...      ...\n",
              "1156  U1043       1   132630\n",
              "1157  U1011       1   132715\n",
              "1158  U1068       1   132733\n",
              "1159  U1068       1   132594\n",
              "1160  U1068       0   132660\n",
              "\n",
              "[1161 rows x 3 columns]"
            ]
          },
          "execution_count": 9,
          "metadata": {},
          "output_type": "execute_result"
        }
      ],
      "source": [
        "matriz_ratings_grl"
      ]
    },
    {
      "cell_type": "code",
      "execution_count": null,
      "metadata": {
        "id": "UhrxOoFDhApk",
        "outputId": "877c74cc-6754-49a8-8b66-ead6e6ec112a"
      },
      "outputs": [
        {
          "data": {
            "text/html": [
              "<div>\n",
              "<style scoped>\n",
              "    .dataframe tbody tr th:only-of-type {\n",
              "        vertical-align: middle;\n",
              "    }\n",
              "\n",
              "    .dataframe tbody tr th {\n",
              "        vertical-align: top;\n",
              "    }\n",
              "\n",
              "    .dataframe thead th {\n",
              "        text-align: right;\n",
              "    }\n",
              "</style>\n",
              "<table border=\"1\" class=\"dataframe\">\n",
              "  <thead>\n",
              "    <tr style=\"text-align: right;\">\n",
              "      <th></th>\n",
              "      <th>name</th>\n",
              "      <th>placeID</th>\n",
              "    </tr>\n",
              "  </thead>\n",
              "  <tbody>\n",
              "    <tr>\n",
              "      <th>0</th>\n",
              "      <td>Kiku Cuernavaca</td>\n",
              "      <td>134999</td>\n",
              "    </tr>\n",
              "    <tr>\n",
              "      <th>1</th>\n",
              "      <td>puesto de tacos</td>\n",
              "      <td>132825</td>\n",
              "    </tr>\n",
              "    <tr>\n",
              "      <th>2</th>\n",
              "      <td>El Rincón de San Francisco</td>\n",
              "      <td>135106</td>\n",
              "    </tr>\n",
              "    <tr>\n",
              "      <th>3</th>\n",
              "      <td>little pizza Emilio Portes Gil</td>\n",
              "      <td>132667</td>\n",
              "    </tr>\n",
              "    <tr>\n",
              "      <th>4</th>\n",
              "      <td>carnitas_mata</td>\n",
              "      <td>132613</td>\n",
              "    </tr>\n",
              "    <tr>\n",
              "      <th>...</th>\n",
              "      <td>...</td>\n",
              "      <td>...</td>\n",
              "    </tr>\n",
              "    <tr>\n",
              "      <th>125</th>\n",
              "      <td>Chaires</td>\n",
              "      <td>132866</td>\n",
              "    </tr>\n",
              "    <tr>\n",
              "      <th>126</th>\n",
              "      <td>Sushi Itto</td>\n",
              "      <td>135072</td>\n",
              "    </tr>\n",
              "    <tr>\n",
              "      <th>127</th>\n",
              "      <td>Paniroles</td>\n",
              "      <td>135109</td>\n",
              "    </tr>\n",
              "    <tr>\n",
              "      <th>128</th>\n",
              "      <td>Restaurant Bar Coty y Pablo</td>\n",
              "      <td>135019</td>\n",
              "    </tr>\n",
              "    <tr>\n",
              "      <th>129</th>\n",
              "      <td>sirloin stockade</td>\n",
              "      <td>132877</td>\n",
              "    </tr>\n",
              "  </tbody>\n",
              "</table>\n",
              "<p>130 rows × 2 columns</p>\n",
              "</div>"
            ],
            "text/plain": [
              "                               name  placeID\n",
              "0                   Kiku Cuernavaca   134999\n",
              "1                   puesto de tacos   132825\n",
              "2        El Rincón de San Francisco   135106\n",
              "3    little pizza Emilio Portes Gil   132667\n",
              "4                     carnitas_mata   132613\n",
              "..                              ...      ...\n",
              "125                         Chaires   132866\n",
              "126                      Sushi Itto   135072\n",
              "127                       Paniroles   135109\n",
              "128     Restaurant Bar Coty y Pablo   135019\n",
              "129                sirloin stockade   132877\n",
              "\n",
              "[130 rows x 2 columns]"
            ]
          },
          "execution_count": 10,
          "metadata": {},
          "output_type": "execute_result"
        }
      ],
      "source": [
        "matriz_geo_grl"
      ]
    },
    {
      "cell_type": "code",
      "execution_count": null,
      "metadata": {
        "id": "orPjY7nvhApl",
        "outputId": "94711d04-19e3-4f9e-a51f-5f1cd5f492c7"
      },
      "outputs": [
        {
          "data": {
            "text/html": [
              "<div>\n",
              "<style scoped>\n",
              "    .dataframe tbody tr th:only-of-type {\n",
              "        vertical-align: middle;\n",
              "    }\n",
              "\n",
              "    .dataframe tbody tr th {\n",
              "        vertical-align: top;\n",
              "    }\n",
              "\n",
              "    .dataframe thead th {\n",
              "        text-align: right;\n",
              "    }\n",
              "</style>\n",
              "<table border=\"1\" class=\"dataframe\">\n",
              "  <thead>\n",
              "    <tr style=\"text-align: right;\">\n",
              "      <th></th>\n",
              "      <th>name</th>\n",
              "      <th>placeID</th>\n",
              "      <th>userID</th>\n",
              "      <th>rating</th>\n",
              "    </tr>\n",
              "  </thead>\n",
              "  <tbody>\n",
              "    <tr>\n",
              "      <th>0</th>\n",
              "      <td>Kiku Cuernavaca</td>\n",
              "      <td>134999</td>\n",
              "      <td>U1093</td>\n",
              "      <td>2</td>\n",
              "    </tr>\n",
              "    <tr>\n",
              "      <th>1</th>\n",
              "      <td>Kiku Cuernavaca</td>\n",
              "      <td>134999</td>\n",
              "      <td>U1066</td>\n",
              "      <td>1</td>\n",
              "    </tr>\n",
              "    <tr>\n",
              "      <th>2</th>\n",
              "      <td>Kiku Cuernavaca</td>\n",
              "      <td>134999</td>\n",
              "      <td>U1040</td>\n",
              "      <td>1</td>\n",
              "    </tr>\n",
              "    <tr>\n",
              "      <th>3</th>\n",
              "      <td>Kiku Cuernavaca</td>\n",
              "      <td>134999</td>\n",
              "      <td>U1110</td>\n",
              "      <td>2</td>\n",
              "    </tr>\n",
              "    <tr>\n",
              "      <th>4</th>\n",
              "      <td>Kiku Cuernavaca</td>\n",
              "      <td>134999</td>\n",
              "      <td>U1121</td>\n",
              "      <td>2</td>\n",
              "    </tr>\n",
              "    <tr>\n",
              "      <th>...</th>\n",
              "      <td>...</td>\n",
              "      <td>...</td>\n",
              "      <td>...</td>\n",
              "      <td>...</td>\n",
              "    </tr>\n",
              "    <tr>\n",
              "      <th>1156</th>\n",
              "      <td>Restaurant Bar Coty y Pablo</td>\n",
              "      <td>135019</td>\n",
              "      <td>U1121</td>\n",
              "      <td>2</td>\n",
              "    </tr>\n",
              "    <tr>\n",
              "      <th>1157</th>\n",
              "      <td>sirloin stockade</td>\n",
              "      <td>132877</td>\n",
              "      <td>U1047</td>\n",
              "      <td>0</td>\n",
              "    </tr>\n",
              "    <tr>\n",
              "      <th>1158</th>\n",
              "      <td>sirloin stockade</td>\n",
              "      <td>132877</td>\n",
              "      <td>U1111</td>\n",
              "      <td>1</td>\n",
              "    </tr>\n",
              "    <tr>\n",
              "      <th>1159</th>\n",
              "      <td>sirloin stockade</td>\n",
              "      <td>132877</td>\n",
              "      <td>U1015</td>\n",
              "      <td>1</td>\n",
              "    </tr>\n",
              "    <tr>\n",
              "      <th>1160</th>\n",
              "      <td>sirloin stockade</td>\n",
              "      <td>132877</td>\n",
              "      <td>U1025</td>\n",
              "      <td>1</td>\n",
              "    </tr>\n",
              "  </tbody>\n",
              "</table>\n",
              "<p>1161 rows × 4 columns</p>\n",
              "</div>"
            ],
            "text/plain": [
              "                             name  placeID userID  rating\n",
              "0                 Kiku Cuernavaca   134999  U1093       2\n",
              "1                 Kiku Cuernavaca   134999  U1066       1\n",
              "2                 Kiku Cuernavaca   134999  U1040       1\n",
              "3                 Kiku Cuernavaca   134999  U1110       2\n",
              "4                 Kiku Cuernavaca   134999  U1121       2\n",
              "...                           ...      ...    ...     ...\n",
              "1156  Restaurant Bar Coty y Pablo   135019  U1121       2\n",
              "1157             sirloin stockade   132877  U1047       0\n",
              "1158             sirloin stockade   132877  U1111       1\n",
              "1159             sirloin stockade   132877  U1015       1\n",
              "1160             sirloin stockade   132877  U1025       1\n",
              "\n",
              "[1161 rows x 4 columns]"
            ]
          },
          "execution_count": 11,
          "metadata": {},
          "output_type": "execute_result"
        }
      ],
      "source": [
        "tabla_relacional = pd.merge(matriz_geo_grl,matriz_ratings_grl, on='placeID')   # dataFrame\n",
        "tabla_relacional "
      ]
    },
    {
      "cell_type": "code",
      "execution_count": null,
      "metadata": {
        "id": "vAM2WaqdhApl",
        "outputId": "423c9739-3ec2-4192-984a-802459fccfd4"
      },
      "outputs": [
        {
          "data": {
            "text/html": [
              "<div>\n",
              "<style scoped>\n",
              "    .dataframe tbody tr th:only-of-type {\n",
              "        vertical-align: middle;\n",
              "    }\n",
              "\n",
              "    .dataframe tbody tr th {\n",
              "        vertical-align: top;\n",
              "    }\n",
              "\n",
              "    .dataframe thead th {\n",
              "        text-align: right;\n",
              "    }\n",
              "</style>\n",
              "<table border=\"1\" class=\"dataframe\">\n",
              "  <thead>\n",
              "    <tr style=\"text-align: right;\">\n",
              "      <th>name</th>\n",
              "      <th>Abondance Restaurante Bar</th>\n",
              "      <th>Arrachela Grill</th>\n",
              "      <th>Cabana Huasteca</th>\n",
              "      <th>Cafe Chaires</th>\n",
              "      <th>Cafeteria cenidet</th>\n",
              "      <th>Cafeteria y Restaurant El Pacifico</th>\n",
              "      <th>Carls Jr</th>\n",
              "      <th>Carnitas Mata  Calle 16 de Septiembre</th>\n",
              "      <th>Carreton de Flautas y Migadas</th>\n",
              "      <th>Cenaduria El RincÃ³n de Tlaquepaque</th>\n",
              "      <th>...</th>\n",
              "      <th>puesto de tacos</th>\n",
              "      <th>rockabilly</th>\n",
              "      <th>shi ro ie</th>\n",
              "      <th>sirloin stockade</th>\n",
              "      <th>tacos abi</th>\n",
              "      <th>tacos de barbacoa enfrente del Tec</th>\n",
              "      <th>tacos de la estacion</th>\n",
              "      <th>tacos los volcanes</th>\n",
              "      <th>tortas hawai</th>\n",
              "      <th>vips</th>\n",
              "    </tr>\n",
              "    <tr>\n",
              "      <th>userID</th>\n",
              "      <th></th>\n",
              "      <th></th>\n",
              "      <th></th>\n",
              "      <th></th>\n",
              "      <th></th>\n",
              "      <th></th>\n",
              "      <th></th>\n",
              "      <th></th>\n",
              "      <th></th>\n",
              "      <th></th>\n",
              "      <th></th>\n",
              "      <th></th>\n",
              "      <th></th>\n",
              "      <th></th>\n",
              "      <th></th>\n",
              "      <th></th>\n",
              "      <th></th>\n",
              "      <th></th>\n",
              "      <th></th>\n",
              "      <th></th>\n",
              "      <th></th>\n",
              "    </tr>\n",
              "  </thead>\n",
              "  <tbody>\n",
              "    <tr>\n",
              "      <th>U1001</th>\n",
              "      <td>0</td>\n",
              "      <td>0</td>\n",
              "      <td>0</td>\n",
              "      <td>0</td>\n",
              "      <td>0</td>\n",
              "      <td>0</td>\n",
              "      <td>0</td>\n",
              "      <td>0</td>\n",
              "      <td>0</td>\n",
              "      <td>0</td>\n",
              "      <td>...</td>\n",
              "      <td>2</td>\n",
              "      <td>0</td>\n",
              "      <td>0</td>\n",
              "      <td>0</td>\n",
              "      <td>0</td>\n",
              "      <td>0</td>\n",
              "      <td>0</td>\n",
              "      <td>0</td>\n",
              "      <td>0</td>\n",
              "      <td>0</td>\n",
              "    </tr>\n",
              "    <tr>\n",
              "      <th>U1002</th>\n",
              "      <td>0</td>\n",
              "      <td>0</td>\n",
              "      <td>0</td>\n",
              "      <td>0</td>\n",
              "      <td>0</td>\n",
              "      <td>0</td>\n",
              "      <td>0</td>\n",
              "      <td>0</td>\n",
              "      <td>0</td>\n",
              "      <td>0</td>\n",
              "      <td>...</td>\n",
              "      <td>2</td>\n",
              "      <td>0</td>\n",
              "      <td>0</td>\n",
              "      <td>0</td>\n",
              "      <td>0</td>\n",
              "      <td>0</td>\n",
              "      <td>0</td>\n",
              "      <td>0</td>\n",
              "      <td>0</td>\n",
              "      <td>0</td>\n",
              "    </tr>\n",
              "    <tr>\n",
              "      <th>U1003</th>\n",
              "      <td>0</td>\n",
              "      <td>0</td>\n",
              "      <td>2</td>\n",
              "      <td>0</td>\n",
              "      <td>0</td>\n",
              "      <td>0</td>\n",
              "      <td>0</td>\n",
              "      <td>0</td>\n",
              "      <td>0</td>\n",
              "      <td>0</td>\n",
              "      <td>...</td>\n",
              "      <td>2</td>\n",
              "      <td>2</td>\n",
              "      <td>0</td>\n",
              "      <td>0</td>\n",
              "      <td>0</td>\n",
              "      <td>0</td>\n",
              "      <td>0</td>\n",
              "      <td>0</td>\n",
              "      <td>0</td>\n",
              "      <td>0</td>\n",
              "    </tr>\n",
              "    <tr>\n",
              "      <th>U1004</th>\n",
              "      <td>0</td>\n",
              "      <td>0</td>\n",
              "      <td>0</td>\n",
              "      <td>0</td>\n",
              "      <td>0</td>\n",
              "      <td>2</td>\n",
              "      <td>0</td>\n",
              "      <td>0</td>\n",
              "      <td>0</td>\n",
              "      <td>0</td>\n",
              "      <td>...</td>\n",
              "      <td>0</td>\n",
              "      <td>0</td>\n",
              "      <td>0</td>\n",
              "      <td>0</td>\n",
              "      <td>0</td>\n",
              "      <td>0</td>\n",
              "      <td>0</td>\n",
              "      <td>2</td>\n",
              "      <td>0</td>\n",
              "      <td>0</td>\n",
              "    </tr>\n",
              "    <tr>\n",
              "      <th>U1005</th>\n",
              "      <td>0</td>\n",
              "      <td>0</td>\n",
              "      <td>0</td>\n",
              "      <td>0</td>\n",
              "      <td>0</td>\n",
              "      <td>2</td>\n",
              "      <td>0</td>\n",
              "      <td>0</td>\n",
              "      <td>0</td>\n",
              "      <td>0</td>\n",
              "      <td>...</td>\n",
              "      <td>0</td>\n",
              "      <td>0</td>\n",
              "      <td>0</td>\n",
              "      <td>0</td>\n",
              "      <td>0</td>\n",
              "      <td>0</td>\n",
              "      <td>0</td>\n",
              "      <td>0</td>\n",
              "      <td>0</td>\n",
              "      <td>0</td>\n",
              "    </tr>\n",
              "    <tr>\n",
              "      <th>U1006</th>\n",
              "      <td>0</td>\n",
              "      <td>0</td>\n",
              "      <td>0</td>\n",
              "      <td>1</td>\n",
              "      <td>0</td>\n",
              "      <td>0</td>\n",
              "      <td>0</td>\n",
              "      <td>0</td>\n",
              "      <td>0</td>\n",
              "      <td>0</td>\n",
              "      <td>...</td>\n",
              "      <td>1</td>\n",
              "      <td>0</td>\n",
              "      <td>2</td>\n",
              "      <td>0</td>\n",
              "      <td>0</td>\n",
              "      <td>0</td>\n",
              "      <td>0</td>\n",
              "      <td>0</td>\n",
              "      <td>0</td>\n",
              "      <td>0</td>\n",
              "    </tr>\n",
              "    <tr>\n",
              "      <th>U1007</th>\n",
              "      <td>0</td>\n",
              "      <td>0</td>\n",
              "      <td>0</td>\n",
              "      <td>1</td>\n",
              "      <td>0</td>\n",
              "      <td>1</td>\n",
              "      <td>0</td>\n",
              "      <td>0</td>\n",
              "      <td>0</td>\n",
              "      <td>0</td>\n",
              "      <td>...</td>\n",
              "      <td>0</td>\n",
              "      <td>0</td>\n",
              "      <td>0</td>\n",
              "      <td>0</td>\n",
              "      <td>0</td>\n",
              "      <td>0</td>\n",
              "      <td>0</td>\n",
              "      <td>0</td>\n",
              "      <td>0</td>\n",
              "      <td>0</td>\n",
              "    </tr>\n",
              "    <tr>\n",
              "      <th>U1008</th>\n",
              "      <td>1</td>\n",
              "      <td>0</td>\n",
              "      <td>0</td>\n",
              "      <td>0</td>\n",
              "      <td>0</td>\n",
              "      <td>0</td>\n",
              "      <td>0</td>\n",
              "      <td>0</td>\n",
              "      <td>0</td>\n",
              "      <td>0</td>\n",
              "      <td>...</td>\n",
              "      <td>0</td>\n",
              "      <td>0</td>\n",
              "      <td>0</td>\n",
              "      <td>0</td>\n",
              "      <td>0</td>\n",
              "      <td>0</td>\n",
              "      <td>0</td>\n",
              "      <td>0</td>\n",
              "      <td>0</td>\n",
              "      <td>0</td>\n",
              "    </tr>\n",
              "    <tr>\n",
              "      <th>U1009</th>\n",
              "      <td>0</td>\n",
              "      <td>0</td>\n",
              "      <td>1</td>\n",
              "      <td>0</td>\n",
              "      <td>0</td>\n",
              "      <td>0</td>\n",
              "      <td>0</td>\n",
              "      <td>0</td>\n",
              "      <td>0</td>\n",
              "      <td>0</td>\n",
              "      <td>...</td>\n",
              "      <td>1</td>\n",
              "      <td>0</td>\n",
              "      <td>0</td>\n",
              "      <td>0</td>\n",
              "      <td>0</td>\n",
              "      <td>0</td>\n",
              "      <td>0</td>\n",
              "      <td>0</td>\n",
              "      <td>0</td>\n",
              "      <td>0</td>\n",
              "    </tr>\n",
              "    <tr>\n",
              "      <th>U1010</th>\n",
              "      <td>0</td>\n",
              "      <td>0</td>\n",
              "      <td>0</td>\n",
              "      <td>0</td>\n",
              "      <td>0</td>\n",
              "      <td>0</td>\n",
              "      <td>0</td>\n",
              "      <td>0</td>\n",
              "      <td>0</td>\n",
              "      <td>0</td>\n",
              "      <td>...</td>\n",
              "      <td>0</td>\n",
              "      <td>0</td>\n",
              "      <td>0</td>\n",
              "      <td>0</td>\n",
              "      <td>0</td>\n",
              "      <td>0</td>\n",
              "      <td>0</td>\n",
              "      <td>0</td>\n",
              "      <td>0</td>\n",
              "      <td>0</td>\n",
              "    </tr>\n",
              "  </tbody>\n",
              "</table>\n",
              "<p>10 rows × 129 columns</p>\n",
              "</div>"
            ],
            "text/plain": [
              "name    Abondance Restaurante Bar  Arrachela Grill  Cabana Huasteca  \\\n",
              "userID                                                                \n",
              "U1001                           0                0                0   \n",
              "U1002                           0                0                0   \n",
              "U1003                           0                0                2   \n",
              "U1004                           0                0                0   \n",
              "U1005                           0                0                0   \n",
              "U1006                           0                0                0   \n",
              "U1007                           0                0                0   \n",
              "U1008                           1                0                0   \n",
              "U1009                           0                0                1   \n",
              "U1010                           0                0                0   \n",
              "\n",
              "name    Cafe Chaires  Cafeteria cenidet  Cafeteria y Restaurant El Pacifico  \\\n",
              "userID                                                                        \n",
              "U1001              0                  0                                   0   \n",
              "U1002              0                  0                                   0   \n",
              "U1003              0                  0                                   0   \n",
              "U1004              0                  0                                   2   \n",
              "U1005              0                  0                                   2   \n",
              "U1006              1                  0                                   0   \n",
              "U1007              1                  0                                   1   \n",
              "U1008              0                  0                                   0   \n",
              "U1009              0                  0                                   0   \n",
              "U1010              0                  0                                   0   \n",
              "\n",
              "name    Carls Jr  Carnitas Mata  Calle 16 de Septiembre  \\\n",
              "userID                                                    \n",
              "U1001          0                                      0   \n",
              "U1002          0                                      0   \n",
              "U1003          0                                      0   \n",
              "U1004          0                                      0   \n",
              "U1005          0                                      0   \n",
              "U1006          0                                      0   \n",
              "U1007          0                                      0   \n",
              "U1008          0                                      0   \n",
              "U1009          0                                      0   \n",
              "U1010          0                                      0   \n",
              "\n",
              "name    Carreton de Flautas y Migadas  Cenaduria El RincÃ³n de Tlaquepaque  \\\n",
              "userID                                                                       \n",
              "U1001                               0                                    0   \n",
              "U1002                               0                                    0   \n",
              "U1003                               0                                    0   \n",
              "U1004                               0                                    0   \n",
              "U1005                               0                                    0   \n",
              "U1006                               0                                    0   \n",
              "U1007                               0                                    0   \n",
              "U1008                               0                                    0   \n",
              "U1009                               0                                    0   \n",
              "U1010                               0                                    0   \n",
              "\n",
              "name    ...  puesto de tacos  rockabilly   shi ro ie  sirloin stockade  \\\n",
              "userID  ...                                                              \n",
              "U1001   ...                2            0          0                 0   \n",
              "U1002   ...                2            0          0                 0   \n",
              "U1003   ...                2            2          0                 0   \n",
              "U1004   ...                0            0          0                 0   \n",
              "U1005   ...                0            0          0                 0   \n",
              "U1006   ...                1            0          2                 0   \n",
              "U1007   ...                0            0          0                 0   \n",
              "U1008   ...                0            0          0                 0   \n",
              "U1009   ...                1            0          0                 0   \n",
              "U1010   ...                0            0          0                 0   \n",
              "\n",
              "name    tacos abi  tacos de barbacoa enfrente del Tec  tacos de la estacion  \\\n",
              "userID                                                                        \n",
              "U1001           0                                   0                     0   \n",
              "U1002           0                                   0                     0   \n",
              "U1003           0                                   0                     0   \n",
              "U1004           0                                   0                     0   \n",
              "U1005           0                                   0                     0   \n",
              "U1006           0                                   0                     0   \n",
              "U1007           0                                   0                     0   \n",
              "U1008           0                                   0                     0   \n",
              "U1009           0                                   0                     0   \n",
              "U1010           0                                   0                     0   \n",
              "\n",
              "name    tacos los volcanes  tortas hawai  vips  \n",
              "userID                                          \n",
              "U1001                    0             0     0  \n",
              "U1002                    0             0     0  \n",
              "U1003                    0             0     0  \n",
              "U1004                    2             0     0  \n",
              "U1005                    0             0     0  \n",
              "U1006                    0             0     0  \n",
              "U1007                    0             0     0  \n",
              "U1008                    0             0     0  \n",
              "U1009                    0             0     0  \n",
              "U1010                    0             0     0  \n",
              "\n",
              "[10 rows x 129 columns]"
            ]
          },
          "execution_count": 12,
          "metadata": {},
          "output_type": "execute_result"
        }
      ],
      "source": [
        "UtMx = tabla_relacional.pivot_table(values='rating', index='userID', columns='name', fill_value=0)\n",
        "\n",
        "UtMx.head(10)"
      ]
    },
    {
      "cell_type": "code",
      "execution_count": null,
      "metadata": {
        "id": "aIhTQ_ajhApm",
        "outputId": "1368e5b2-d6f0-4522-924e-f1aef589f1f5"
      },
      "outputs": [
        {
          "data": {
            "text/plain": [
              "(138, 129)"
            ]
          },
          "execution_count": 13,
          "metadata": {},
          "output_type": "execute_result"
        }
      ],
      "source": [
        "UtMx.shape "
      ]
    },
    {
      "cell_type": "code",
      "execution_count": null,
      "metadata": {
        "id": "9zxxcvsxhApm",
        "outputId": "0e39c132-ca46-4380-d166-23781d8f5ce1"
      },
      "outputs": [
        {
          "name": "stdout",
          "output_type": "stream",
          "text": [
            "Total de elementos de la matriz de utilidad: 17802\n",
            "Total de elementos diferentes de cero: 907\n",
            "Porcentaje de elementos diferentes de cero: 5.1%\n"
          ]
        }
      ],
      "source": [
        "print('Total de elementos de la matriz de utilidad: %d' % (UtMx.size))\n",
        "print('Total de elementos diferentes de cero: %d' % (np.count_nonzero(UtMx)))\n",
        "print('Porcentaje de elementos diferentes de cero: %.1f%%' % (100 * np.count_nonzero(UtMx) / UtMx.size))"
      ]
    },
    {
      "cell_type": "markdown",
      "metadata": {
        "id": "xZhr2hkECzVv"
      },
      "source": [
        "#**Ejercicio-2.**\n",
        "\n",
        "2. Con el objetivo de obtener la información con respecto a los vectores latentes de los restaurantes, obtener dicha factorización SVD utilizando todas las componentes posibles, es decir, usando todos sus valores singulares. En particular indica la cantidad de valores singulares obtenidos."
      ]
    },
    {
      "cell_type": "code",
      "execution_count": null,
      "metadata": {
        "id": "6jSlL-9MhApn",
        "outputId": "0e2ab126-6dc5-4d95-a7d2-8a8667d2fe8a"
      },
      "outputs": [
        {
          "data": {
            "text/plain": [
              "(129, 138)"
            ]
          },
          "execution_count": 15,
          "metadata": {},
          "output_type": "execute_result"
        }
      ],
      "source": [
        "X = UtMx.T     # Tomamos la traspuesta para que los renglones sean las películas y las columnas los usuarios.\n",
        "X.shape"
      ]
    },
    {
      "cell_type": "code",
      "execution_count": null,
      "metadata": {
        "id": "kGfAoOPkC1PP",
        "outputId": "fe15950a-8c92-46a2-e06a-1ca21c29f414"
      },
      "outputs": [
        {
          "data": {
            "text/html": [
              "<style>#sk-container-id-1 {color: black;background-color: white;}#sk-container-id-1 pre{padding: 0;}#sk-container-id-1 div.sk-toggleable {background-color: white;}#sk-container-id-1 label.sk-toggleable__label {cursor: pointer;display: block;width: 100%;margin-bottom: 0;padding: 0.3em;box-sizing: border-box;text-align: center;}#sk-container-id-1 label.sk-toggleable__label-arrow:before {content: \"▸\";float: left;margin-right: 0.25em;color: #696969;}#sk-container-id-1 label.sk-toggleable__label-arrow:hover:before {color: black;}#sk-container-id-1 div.sk-estimator:hover label.sk-toggleable__label-arrow:before {color: black;}#sk-container-id-1 div.sk-toggleable__content {max-height: 0;max-width: 0;overflow: hidden;text-align: left;background-color: #f0f8ff;}#sk-container-id-1 div.sk-toggleable__content pre {margin: 0.2em;color: black;border-radius: 0.25em;background-color: #f0f8ff;}#sk-container-id-1 input.sk-toggleable__control:checked~div.sk-toggleable__content {max-height: 200px;max-width: 100%;overflow: auto;}#sk-container-id-1 input.sk-toggleable__control:checked~label.sk-toggleable__label-arrow:before {content: \"▾\";}#sk-container-id-1 div.sk-estimator input.sk-toggleable__control:checked~label.sk-toggleable__label {background-color: #d4ebff;}#sk-container-id-1 div.sk-label input.sk-toggleable__control:checked~label.sk-toggleable__label {background-color: #d4ebff;}#sk-container-id-1 input.sk-hidden--visually {border: 0;clip: rect(1px 1px 1px 1px);clip: rect(1px, 1px, 1px, 1px);height: 1px;margin: -1px;overflow: hidden;padding: 0;position: absolute;width: 1px;}#sk-container-id-1 div.sk-estimator {font-family: monospace;background-color: #f0f8ff;border: 1px dotted black;border-radius: 0.25em;box-sizing: border-box;margin-bottom: 0.5em;}#sk-container-id-1 div.sk-estimator:hover {background-color: #d4ebff;}#sk-container-id-1 div.sk-parallel-item::after {content: \"\";width: 100%;border-bottom: 1px solid gray;flex-grow: 1;}#sk-container-id-1 div.sk-label:hover label.sk-toggleable__label {background-color: #d4ebff;}#sk-container-id-1 div.sk-serial::before {content: \"\";position: absolute;border-left: 1px solid gray;box-sizing: border-box;top: 0;bottom: 0;left: 50%;z-index: 0;}#sk-container-id-1 div.sk-serial {display: flex;flex-direction: column;align-items: center;background-color: white;padding-right: 0.2em;padding-left: 0.2em;position: relative;}#sk-container-id-1 div.sk-item {position: relative;z-index: 1;}#sk-container-id-1 div.sk-parallel {display: flex;align-items: stretch;justify-content: center;background-color: white;position: relative;}#sk-container-id-1 div.sk-item::before, #sk-container-id-1 div.sk-parallel-item::before {content: \"\";position: absolute;border-left: 1px solid gray;box-sizing: border-box;top: 0;bottom: 0;left: 50%;z-index: -1;}#sk-container-id-1 div.sk-parallel-item {display: flex;flex-direction: column;z-index: 1;position: relative;background-color: white;}#sk-container-id-1 div.sk-parallel-item:first-child::after {align-self: flex-end;width: 50%;}#sk-container-id-1 div.sk-parallel-item:last-child::after {align-self: flex-start;width: 50%;}#sk-container-id-1 div.sk-parallel-item:only-child::after {width: 0;}#sk-container-id-1 div.sk-dashed-wrapped {border: 1px dashed gray;margin: 0 0.4em 0.5em 0.4em;box-sizing: border-box;padding-bottom: 0.4em;background-color: white;}#sk-container-id-1 div.sk-label label {font-family: monospace;font-weight: bold;display: inline-block;line-height: 1.2em;}#sk-container-id-1 div.sk-label-container {text-align: center;}#sk-container-id-1 div.sk-container {/* jupyter's `normalize.less` sets `[hidden] { display: none; }` but bootstrap.min.css set `[hidden] { display: none !important; }` so we also need the `!important` here to be able to override the default hidden behavior on the sphinx rendered scikit-learn.org. See: https://github.com/scikit-learn/scikit-learn/issues/21755 */display: inline-block !important;position: relative;}#sk-container-id-1 div.sk-text-repr-fallback {display: none;}</style><div id=\"sk-container-id-1\" class=\"sk-top-container\"><div class=\"sk-text-repr-fallback\"><pre>TruncatedSVD(n_components=137, random_state=42)</pre><b>In a Jupyter environment, please rerun this cell to show the HTML representation or trust the notebook. <br />On GitHub, the HTML representation is unable to render, please try loading this page with nbviewer.org.</b></div><div class=\"sk-container\" hidden><div class=\"sk-item\"><div class=\"sk-estimator sk-toggleable\"><input class=\"sk-toggleable__control sk-hidden--visually\" id=\"sk-estimator-id-1\" type=\"checkbox\" checked><label for=\"sk-estimator-id-1\" class=\"sk-toggleable__label sk-toggleable__label-arrow\">TruncatedSVD</label><div class=\"sk-toggleable__content\"><pre>TruncatedSVD(n_components=137, random_state=42)</pre></div></div></div></div></div>"
            ],
            "text/plain": [
              "TruncatedSVD(n_components=137, random_state=42)"
            ]
          },
          "execution_count": 16,
          "metadata": {},
          "output_type": "execute_result"
        }
      ],
      "source": [
        "SVD = TruncatedSVD(n_components=137, random_state=42)  \n",
        "SVD.fit(X)\n"
      ]
    },
    {
      "cell_type": "code",
      "execution_count": null,
      "metadata": {
        "id": "GOydw5OGC1MJ",
        "outputId": "3e3a3e9c-50e6-4f7a-aecd-cc7034dbd5ce"
      },
      "outputs": [
        {
          "name": "stdout",
          "output_type": "stream",
          "text": [
            "La cantidad de valores singulares obtenidos es de: 129\n"
          ]
        }
      ],
      "source": [
        "b=0\n",
        "for a in SVD.singular_values_:\n",
        "    b=b+1\n",
        "print(\"La cantidad de valores singulares obtenidos es de:\",b)"
      ]
    },
    {
      "cell_type": "code",
      "execution_count": null,
      "metadata": {
        "id": "hDWWOEAvhApp",
        "outputId": "1adee544-3bef-4ac8-d4d6-a4f35563ef75"
      },
      "outputs": [
        {
          "data": {
            "text/plain": [
              "(129, 129)"
            ]
          },
          "execution_count": 18,
          "metadata": {},
          "output_type": "execute_result"
        }
      ],
      "source": [
        "resultant_matrix = SVD.fit_transform(X)\n",
        "resultant_matrix.shape"
      ]
    },
    {
      "cell_type": "markdown",
      "metadata": {
        "id": "NCunuooTC2W3"
      },
      "source": [
        "#**Ejercicio-3.**\n",
        "\n",
        "3. Usando la métrica de correlación de Pearon, obtener las 10 mejores recomendaciones de este modelo no supervisado con base a la información de alguien que evaluó bien de manera general al “Subway”. Despliega también el valor numérico de la correlación de Pearson de cada una de estas 10 recomendaciones. NOTA: No debe estar incluido “Subway” dentro de las recomendaciones."
      ]
    },
    {
      "cell_type": "code",
      "execution_count": null,
      "metadata": {
        "id": "YXlcSWA-C4Dj",
        "outputId": "a940f9b8-a2d7-49a1-d991-3fa1ce92f023"
      },
      "outputs": [
        {
          "data": {
            "text/plain": [
              "(129, 129)"
            ]
          },
          "execution_count": 19,
          "metadata": {},
          "output_type": "execute_result"
        }
      ],
      "source": [
        "corrMx = np.corrcoef(resultant_matrix, )\n",
        "corrMx.shape"
      ]
    },
    {
      "cell_type": "code",
      "execution_count": null,
      "metadata": {
        "id": "BKI80-YdC4HN",
        "scrolled": false,
        "outputId": "30dfddbe-1110-4e39-882d-a3e7a4fefb68"
      },
      "outputs": [
        {
          "data": {
            "text/plain": [
              "88"
            ]
          },
          "execution_count": 20,
          "metadata": {},
          "output_type": "execute_result"
        }
      ],
      "source": [
        "me_gusta = \"Subway\"\n",
        "\n",
        "names = UtMx.columns\n",
        "names_list = list(names)\n",
        "id_megusta = names_list.index(me_gusta)\n",
        "\n",
        "id_megusta\n"
      ]
    },
    {
      "cell_type": "code",
      "execution_count": null,
      "metadata": {
        "id": "nnxtsZaBhApq",
        "outputId": "670807d5-6e6b-41e7-e318-09f05d2a4827"
      },
      "outputs": [
        {
          "name": "stdout",
          "output_type": "stream",
          "text": [
            "(129,)\n",
            "[-7.69028369e-04 -7.87822168e-05 -5.27330975e-03  8.58511349e-04\n",
            " -3.03891148e-03  3.97495832e-05 -1.54820208e-03 -5.29347145e-03\n",
            "  7.27520383e-04 -1.55098452e-03 -1.84483094e-03  3.01090491e-01\n",
            " -3.06938616e-05 -3.66639157e-03 -2.28024815e-03 -1.70971180e-03\n",
            "  2.66961340e-03  4.58467365e-04 -2.11449533e-03 -6.20445134e-03\n",
            "  3.34268563e-03  1.16598607e-01  1.87080102e-03  2.53682556e-03\n",
            " -5.48801141e-03 -2.91288266e-03  2.02825342e-03 -1.36607265e-03\n",
            " -2.01695899e-03  1.12058244e-01 -2.36235727e-03  6.52159239e-04\n",
            "  3.53495770e-03 -3.62793330e-03  1.69065407e-03 -4.51837401e-03\n",
            " -2.09301342e-03  2.34634298e-01 -3.80413494e-03 -5.11845710e-04\n",
            " -2.27148704e-03  3.88178002e-01 -2.07427108e-03 -2.29428835e-03\n",
            "  1.32565455e-03  3.01002479e-01  1.71433518e-01 -3.29715354e-03\n",
            " -4.74480596e-03 -8.02527884e-04 -2.65071452e-03  1.12018889e-01\n",
            " -3.91080724e-03 -2.06369812e-03  1.16008629e-01  2.27855804e-01\n",
            "  4.28342495e-04 -8.69739761e-04  6.09520875e-01 -6.43364064e-03\n",
            "  4.25467169e-01 -2.27256171e-03  4.45920939e-05  5.11279379e-04\n",
            "  2.85149220e-01 -1.90010302e-03 -4.16115194e-03 -5.61375368e-03\n",
            " -2.57693978e-03 -3.72881676e-03 -6.05992942e-03  1.41047150e-03\n",
            " -1.58675476e-04 -1.94116490e-03  2.09955125e-03 -2.10171395e-03\n",
            " -4.38985616e-03 -2.29468299e-03  7.76009788e-04 -2.96124143e-03\n",
            " -2.82046690e-03 -8.57374506e-04 -1.50259308e-03 -3.19597534e-03\n",
            " -2.56400020e-03  4.29823831e-01  4.17218501e-01  3.89064434e-03\n",
            "  1.00000000e+00 -9.93812832e-04  8.60361345e-04 -2.79531559e-03\n",
            "  2.37442956e-04 -3.06216758e-03  1.36462717e-03  2.66480676e-04\n",
            "  2.92661192e-03  5.06277680e-01 -3.20853148e-03 -8.36332065e-04\n",
            " -3.72003822e-03  1.60652886e-03 -1.25997089e-03 -2.57629937e-03\n",
            "  1.70432198e-03 -2.43624453e-03 -1.13863819e-03  1.91200064e-03\n",
            " -3.57766463e-03 -2.41086958e-03 -8.60077590e-03  3.33763511e-03\n",
            "  3.00375655e-03  2.47765536e-03  1.38274830e-03 -1.59646437e-05\n",
            " -8.37066511e-04 -1.73990894e-03 -1.20344221e-03 -3.56656608e-03\n",
            " -2.38089550e-03 -4.91396372e-06 -3.20025066e-03  1.81536303e-03\n",
            "  2.45429531e-03 -2.56625850e-03 -2.88100273e-03 -1.91214767e-03\n",
            "  8.37828947e-04]\n"
          ]
        }
      ],
      "source": [
        "corr_recomienda = corrMx[id_megusta]\n",
        "print(corr_recomienda.shape)\n",
        "print(corr_recomienda)"
      ]
    },
    {
      "cell_type": "code",
      "execution_count": null,
      "metadata": {
        "id": "sIBBX17whApr",
        "outputId": "ed30c189-28a5-47ad-a116-31c05362d4f9"
      },
      "outputs": [
        {
          "data": {
            "text/plain": [
              "1.0"
            ]
          },
          "execution_count": 22,
          "metadata": {},
          "output_type": "execute_result"
        }
      ],
      "source": [
        "corr_recomienda[id_megusta]"
      ]
    },
    {
      "cell_type": "code",
      "execution_count": null,
      "metadata": {
        "id": "U-QW5FYOhApr",
        "outputId": "fc81bb12-f7de-4c13-fa65-78c2f15c8e48"
      },
      "outputs": [
        {
          "data": {
            "text/plain": [
              "['Chilis Cuernavaca',\n",
              " 'Log Yin',\n",
              " 'Mariscos Tia Licha',\n",
              " 'Mikasa',\n",
              " 'Restaurant Teely',\n",
              " 'Restaurant and Bar and Clothesline Carlos N Charlies',\n",
              " 'Restaurant los Pinos',\n",
              " 'Rincon del Bife',\n",
              " 'Sanborns Casa Piedra',\n",
              " 'Vips']"
            ]
          },
          "execution_count": 23,
          "metadata": {},
          "output_type": "execute_result"
        }
      ],
      "source": [
        "mejores10 = list(names[(corr_recomienda > 0.23)& (corr_recomienda < 1)])\n",
        "mejores10"
      ]
    },
    {
      "cell_type": "code",
      "execution_count": null,
      "metadata": {
        "id": "d35dafOHhApr",
        "outputId": "3ba52e2c-973d-4a38-b958-a719a81ac09b"
      },
      "outputs": [
        {
          "data": {
            "text/plain": [
              "[0.301090491044961,\n",
              " 0.23463429773399852,\n",
              " 0.3881780018525816,\n",
              " 0.3010024785497628,\n",
              " 0.6095208746935301,\n",
              " 0.4254671689089249,\n",
              " 0.28514921973296703,\n",
              " 0.4298238308559109,\n",
              " 0.41721850134793703,\n",
              " 0.5062776799761117]"
            ]
          },
          "execution_count": 24,
          "metadata": {},
          "output_type": "execute_result"
        }
      ],
      "source": [
        "list(corr_recomienda[(corr_recomienda > 0.23)& (corr_recomienda < 1)])"
      ]
    },
    {
      "cell_type": "markdown",
      "metadata": {
        "id": "chqk9jIDC5Pq"
      },
      "source": [
        "#**Ejercicio-4.**\n",
        "\n",
        "4. Disminuye ahora la dimensión de la factorización con un número de componentes tal, que las recomendaciones con esta menor cantidad de información coincidan en al menos 9 de las 10 recomendaciones dadas con todos los valores singulares. Indica la cantidad de valores singulares encontrado y la cantidad de información que contienen."
      ]
    },
    {
      "cell_type": "code",
      "execution_count": null,
      "metadata": {
        "id": "cOVavwIhhAps",
        "outputId": "d5aea69b-6cc9-4b1c-a879-99158ae69ca9"
      },
      "outputs": [
        {
          "name": "stdout",
          "output_type": "stream",
          "text": [
            "Longitud de la segunda lista de recomendaciones: 10 \n",
            "\n",
            "Número de recomendaciones que son iguales entre la lista con valores singulares full y la segunda lista: 9\n",
            "\n",
            "Cantidad de información simplificada con los primeros 8 vectores singulares:\n",
            "79.3%\n"
          ]
        }
      ],
      "source": [
        "def busqueda_SVD(n,X,id_megusta,mejores10): \n",
        "    \n",
        "    SVD = TruncatedSVD(n_components=137, random_state=1)  \n",
        "    SVD.fit(X)\n",
        "    \n",
        "    \n",
        "    SVD_busqueda = TruncatedSVD(n_components=n, random_state=42) \n",
        "    SVD_busqueda.fit(X)\n",
        "    resultant_matrix_busqueda= SVD_busqueda.fit_transform(X)\n",
        "    corrMx_busqueda = np.corrcoef(resultant_matrix_busqueda, )\n",
        "    corr_recomienda_busqueda = corrMx_busqueda[id_megusta]\n",
        "    comparacion_mejores = list(names[(corr_recomienda_busqueda > 0.999955)& (corr_recomienda_busqueda < 1)])\n",
        "    print(\"Longitud de la segunda lista de recomendaciones:\",len(comparacion_mejores),\"\\n\")\n",
        "    print(\"Número de recomendaciones que son iguales entre la lista con valores singulares full y la segunda lista:\",len(set(mejores10).intersection(comparacion_mejores)))\n",
        "    print('\\nCantidad de información simplificada con los primeros %d vectores singulares:' % n)\n",
        "    print('%.1f%%' %  (100 * (1- (SVD.singular_values_[0:n]).sum() / (SVD.singular_values_).sum())))\n",
        "    return \n",
        "\n",
        "busqueda_SVD(8,X,id_megusta,mejores10)"
      ]
    },
    {
      "cell_type": "markdown",
      "metadata": {
        "id": "Rv7KFq-mC7PS"
      },
      "source": [
        "#**Ejercicio-5.**\n",
        "\n",
        "5. Repite el ejercicio con el restaurante “\"tacos de barbacoa enfrente del Tec\". Incluye tus conclusiones."
      ]
    },
    {
      "cell_type": "code",
      "execution_count": null,
      "metadata": {
        "id": "jaDj3kawC9B6",
        "outputId": "f1147381-9199-4671-b9a2-0229e53c5f15"
      },
      "outputs": [
        {
          "data": {
            "text/plain": [
              "124"
            ]
          },
          "execution_count": 26,
          "metadata": {},
          "output_type": "execute_result"
        }
      ],
      "source": [
        "me_gusta2 = \"tacos de barbacoa enfrente del Tec\"\n",
        "\n",
        "\n",
        "id_megusta2 = names_list.index(me_gusta2)\n",
        "\n",
        "id_megusta2"
      ]
    },
    {
      "cell_type": "code",
      "execution_count": null,
      "metadata": {
        "id": "Tlo8kV6QhApu",
        "outputId": "7dc5e949-fdc4-46c8-93d7-cd0364a14f19"
      },
      "outputs": [
        {
          "name": "stdout",
          "output_type": "stream",
          "text": [
            "(129,)\n",
            "[ 1.90365985e-03  1.95018219e-04  1.30535991e-02 -2.12516683e-03\n",
            "  7.52254923e-03 -9.83964813e-05  3.83243356e-03  1.31035076e-02\n",
            "  4.07794920e-01  3.83932123e-03  4.56671136e-03  1.56152873e-03\n",
            "  7.59798653e-05  9.07581917e-03  5.64454708e-03  4.23223620e-03\n",
            " -6.60838540e-03 -1.13489430e-03  5.23424104e-03  1.53585555e-02\n",
            " -8.27451453e-03  4.82434184e-03 -4.63099792e-03 -6.27968115e-03\n",
            "  1.48442849e-01  1.91120451e-01 -5.02075704e-03  3.38158871e-03\n",
            "  4.99279870e-03  5.56810594e-03  5.84780076e-03 -1.61436094e-03\n",
            " -8.75046657e-03  8.98061922e-03 -4.18506052e-03  1.11848243e-02\n",
            "  2.58479385e-01  1.27230718e-02  9.41679037e-03  1.26702755e-03\n",
            "  5.62285977e-03  5.74403685e-03  5.13466958e-03  5.67930233e-03\n",
            " -3.28153738e-03  1.83689220e-03  1.11393805e-02  8.16180397e-03\n",
            "  1.17453360e-02  1.98658485e-03  6.56160293e-03  5.69993965e-03\n",
            "  9.68084797e-03  5.10849717e-03  6.85473722e-03 -3.44059875e-03\n",
            " -1.06032292e-03  2.15296175e-03  1.33109496e-04  1.59258928e-02\n",
            "  6.48831289e-03  5.62552000e-03 -1.10383676e-04 -1.26562564e-03\n",
            " -1.67166776e-03  4.70353236e-03  1.03005535e-02  1.38963371e-02\n",
            "  6.37898026e-03  9.23034706e-03  1.50008046e-02 -3.49149403e-03\n",
            "  3.92786721e-04  4.80517732e-03 -5.19724834e-03  5.20260190e-03\n",
            "  1.08666900e-02  5.68027923e-03 -1.92094172e-03  7.33028407e-03\n",
            "  6.98180953e-03  2.12235268e-03  3.71953264e-03  7.91134654e-03\n",
            "  6.34694950e-03 -5.40898390e-03  4.38279773e-03 -9.63093653e-03\n",
            "  2.45429531e-03  2.46009336e-03 -2.12974633e-03  6.91954973e-03\n",
            "  4.37184208e-01  7.58011759e-03 -3.37801056e-03 -6.59648698e-04\n",
            " -7.24456187e-03  1.54139054e-02  7.94242812e-03  2.07026403e-03\n",
            "  1.70939472e-01  1.70855947e-01  3.11894345e-03  6.37739499e-03\n",
            " -4.21889419e-03  6.03070196e-03  2.81859538e-03 -4.73298386e-03\n",
            "  8.85618371e-03  5.96788857e-03  2.12904392e-02 -8.26201244e-03\n",
            " -7.43552639e-03 -6.13321069e-03  6.53849268e-01  3.95190247e-05\n",
            "  1.95174088e-01  4.30698647e-03  4.12764523e-01  8.82871025e-03\n",
            "  5.89369046e-03  1.21640707e-05  7.92192972e-03  6.65305365e-01\n",
            "  1.00000000e+00  6.35253973e-03  7.13166046e-03  4.73334779e-03\n",
            "  8.17188985e-01]\n"
          ]
        }
      ],
      "source": [
        "corr_recomienda2 = corrMx[id_megusta2]\n",
        "print(corr_recomienda2.shape)\n",
        "print(corr_recomienda2)"
      ]
    },
    {
      "cell_type": "code",
      "execution_count": null,
      "metadata": {
        "id": "4tQxQROVC9Us",
        "outputId": "404678a0-94fb-451a-886d-0b3d86803704"
      },
      "outputs": [
        {
          "data": {
            "text/plain": [
              "['Carreton de Flautas y Migadas',\n",
              " 'Hamburguesas La perica',\n",
              " 'Little Cesarz',\n",
              " 'Taqueria EL amigo ',\n",
              " 'carnitas mata calle Emilio Portes Gil',\n",
              " 'little pizza Emilio Portes Gil',\n",
              " 'palomo tec',\n",
              " 'puesto de gorditas',\n",
              " 'tacos abi',\n",
              " 'vips']"
            ]
          },
          "execution_count": 28,
          "metadata": {},
          "output_type": "execute_result"
        }
      ],
      "source": [
        "mejores10_2 = list(names[(corr_recomienda2 > 0.1709)& (corr_recomienda2 < 1)])\n",
        "mejores10_2"
      ]
    },
    {
      "cell_type": "code",
      "execution_count": null,
      "metadata": {
        "id": "xcfaIn7OhApu",
        "outputId": "a1f0a957-531b-4c7f-e00c-f023393b2c8e"
      },
      "outputs": [
        {
          "data": {
            "text/plain": [
              "[0.40779492018129593,\n",
              " 0.19112045068235076,\n",
              " 0.258479385426264,\n",
              " 0.4371842084263567,\n",
              " 0.17093947240845903,\n",
              " 0.6538492684416535,\n",
              " 0.19517408801078595,\n",
              " 0.41276452318483897,\n",
              " 0.6653053654632715,\n",
              " 0.8171889849105266]"
            ]
          },
          "execution_count": 29,
          "metadata": {},
          "output_type": "execute_result"
        }
      ],
      "source": [
        "list(corr_recomienda2[(corr_recomienda2 > 0.1709)& (corr_recomienda2 < 1)])"
      ]
    },
    {
      "cell_type": "code",
      "execution_count": null,
      "metadata": {
        "id": "j_jLHv5mhApv",
        "outputId": "59b250cb-cc5e-4426-b74b-7ab597bf9d64"
      },
      "outputs": [
        {
          "name": "stdout",
          "output_type": "stream",
          "text": [
            "Longitud de la segunda lista de recomendaciones: 10 \n",
            "\n",
            "Número de recomendaciones que son iguales entre la lista con valores singulares full y la segunda lista: 9\n",
            "\n",
            "Cantidad de información simplificada con los primeros 79 vectores singulares:\n",
            "9.9%\n"
          ]
        }
      ],
      "source": [
        "def busqueda_SVD_2(n,X,id_megusta,mejores10): \n",
        "    \n",
        "    SVD = TruncatedSVD(n_components=137, random_state=1)  \n",
        "    SVD.fit(X)\n",
        "    \n",
        "    \n",
        "    SVD_busqueda = TruncatedSVD(n_components=n, random_state=42) \n",
        "    SVD_busqueda.fit(X)\n",
        "    resultant_matrix_busqueda= SVD_busqueda.fit_transform(X)\n",
        "    corrMx_busqueda = np.corrcoef(resultant_matrix_busqueda, )\n",
        "    corr_recomienda_busqueda = corrMx_busqueda[id_megusta]\n",
        "    comparacion_mejores = list(names[(corr_recomienda_busqueda > 0.175)& (corr_recomienda_busqueda < 1)])\n",
        "    print(\"Longitud de la segunda lista de recomendaciones:\",len(comparacion_mejores),\"\\n\")\n",
        "    print(\"Número de recomendaciones que son iguales entre la lista con valores singulares full y la segunda lista:\",len(set(mejores10).intersection(comparacion_mejores)))\n",
        "    print('\\nCantidad de información simplificada con los primeros %d vectores singulares:' % n)\n",
        "    print('%.1f%%' %  (100 * (1- (SVD.singular_values_[0:n]).sum() / (SVD.singular_values_).sum())))\n",
        "    return \n",
        "\n",
        "busqueda_SVD_2(79,X,id_megusta2,mejores10_2)"
      ]
    },
    {
      "cell_type": "markdown",
      "metadata": {
        "id": "4eoFgwwKhApv"
      },
      "source": [
        "**Conclusiones del Ejercicio 5** - La búsqueda para encontrar valores singulares reducidos vs el ejercicio 4 fue muy diferente. Se hicieron ejercicios manuales y para los componentes 8, prácticamente ya habíamos conseguido el 90% de similitud. Intentamos aplicar la misma metodología para el ejercicio 5 y apenas para los componentes 79 es que pudimos igualar la misma eficiencia. En este caso la información simplificada fue muy poca (9.9% comparado con 79.3% del otro ejercicio) lo cual prácticamente nos dice que necesitamos casi la misma información para poder tener ese grado de precisión.  "
      ]
    },
    {
      "cell_type": "markdown",
      "metadata": {
        "id": "W2S7LI0NC9wE"
      },
      "source": [
        "#**Ejercicio-6.**\n",
        "\n",
        "6. Repite los ejercicios 1 a 4 generando ahora la matriz de utilidad en la cual los renglones son los usuarios (user_ID), las columnas los nombres de los restaurantes (name) y las entradas la evaluación dada a la comida (food_rating). Incluye tus conclusiones."
      ]
    },
    {
      "cell_type": "code",
      "execution_count": null,
      "metadata": {
        "id": "x6uBleJUC_AU"
      },
      "outputs": [],
      "source": [
        "matriz_ratings_food = ratings[[ 'userID','food_rating','placeID']] \n",
        "matriz_geo_food = geo[['name', 'placeID']] "
      ]
    },
    {
      "cell_type": "code",
      "execution_count": null,
      "metadata": {
        "id": "n0P_AcyjC_Dh",
        "outputId": "61befd36-2781-41cd-cdf2-9d07ba275aca"
      },
      "outputs": [
        {
          "data": {
            "text/html": [
              "<div>\n",
              "<style scoped>\n",
              "    .dataframe tbody tr th:only-of-type {\n",
              "        vertical-align: middle;\n",
              "    }\n",
              "\n",
              "    .dataframe tbody tr th {\n",
              "        vertical-align: top;\n",
              "    }\n",
              "\n",
              "    .dataframe thead th {\n",
              "        text-align: right;\n",
              "    }\n",
              "</style>\n",
              "<table border=\"1\" class=\"dataframe\">\n",
              "  <thead>\n",
              "    <tr style=\"text-align: right;\">\n",
              "      <th></th>\n",
              "      <th>userID</th>\n",
              "      <th>food_rating</th>\n",
              "      <th>placeID</th>\n",
              "    </tr>\n",
              "  </thead>\n",
              "  <tbody>\n",
              "    <tr>\n",
              "      <th>0</th>\n",
              "      <td>U1077</td>\n",
              "      <td>2</td>\n",
              "      <td>135085</td>\n",
              "    </tr>\n",
              "    <tr>\n",
              "      <th>1</th>\n",
              "      <td>U1077</td>\n",
              "      <td>2</td>\n",
              "      <td>135038</td>\n",
              "    </tr>\n",
              "    <tr>\n",
              "      <th>2</th>\n",
              "      <td>U1077</td>\n",
              "      <td>2</td>\n",
              "      <td>132825</td>\n",
              "    </tr>\n",
              "    <tr>\n",
              "      <th>3</th>\n",
              "      <td>U1077</td>\n",
              "      <td>2</td>\n",
              "      <td>135060</td>\n",
              "    </tr>\n",
              "    <tr>\n",
              "      <th>4</th>\n",
              "      <td>U1068</td>\n",
              "      <td>1</td>\n",
              "      <td>135104</td>\n",
              "    </tr>\n",
              "    <tr>\n",
              "      <th>...</th>\n",
              "      <td>...</td>\n",
              "      <td>...</td>\n",
              "      <td>...</td>\n",
              "    </tr>\n",
              "    <tr>\n",
              "      <th>1156</th>\n",
              "      <td>U1043</td>\n",
              "      <td>1</td>\n",
              "      <td>132630</td>\n",
              "    </tr>\n",
              "    <tr>\n",
              "      <th>1157</th>\n",
              "      <td>U1011</td>\n",
              "      <td>1</td>\n",
              "      <td>132715</td>\n",
              "    </tr>\n",
              "    <tr>\n",
              "      <th>1158</th>\n",
              "      <td>U1068</td>\n",
              "      <td>1</td>\n",
              "      <td>132733</td>\n",
              "    </tr>\n",
              "    <tr>\n",
              "      <th>1159</th>\n",
              "      <td>U1068</td>\n",
              "      <td>1</td>\n",
              "      <td>132594</td>\n",
              "    </tr>\n",
              "    <tr>\n",
              "      <th>1160</th>\n",
              "      <td>U1068</td>\n",
              "      <td>0</td>\n",
              "      <td>132660</td>\n",
              "    </tr>\n",
              "  </tbody>\n",
              "</table>\n",
              "<p>1161 rows × 3 columns</p>\n",
              "</div>"
            ],
            "text/plain": [
              "     userID  food_rating  placeID\n",
              "0     U1077            2   135085\n",
              "1     U1077            2   135038\n",
              "2     U1077            2   132825\n",
              "3     U1077            2   135060\n",
              "4     U1068            1   135104\n",
              "...     ...          ...      ...\n",
              "1156  U1043            1   132630\n",
              "1157  U1011            1   132715\n",
              "1158  U1068            1   132733\n",
              "1159  U1068            1   132594\n",
              "1160  U1068            0   132660\n",
              "\n",
              "[1161 rows x 3 columns]"
            ]
          },
          "execution_count": 32,
          "metadata": {},
          "output_type": "execute_result"
        }
      ],
      "source": [
        "matriz_ratings_food"
      ]
    },
    {
      "cell_type": "code",
      "execution_count": null,
      "metadata": {
        "id": "SjNDIGOMhApx",
        "outputId": "bf9e3623-dcd4-489a-9493-a48134c5d882"
      },
      "outputs": [
        {
          "data": {
            "text/html": [
              "<div>\n",
              "<style scoped>\n",
              "    .dataframe tbody tr th:only-of-type {\n",
              "        vertical-align: middle;\n",
              "    }\n",
              "\n",
              "    .dataframe tbody tr th {\n",
              "        vertical-align: top;\n",
              "    }\n",
              "\n",
              "    .dataframe thead th {\n",
              "        text-align: right;\n",
              "    }\n",
              "</style>\n",
              "<table border=\"1\" class=\"dataframe\">\n",
              "  <thead>\n",
              "    <tr style=\"text-align: right;\">\n",
              "      <th></th>\n",
              "      <th>name</th>\n",
              "      <th>placeID</th>\n",
              "    </tr>\n",
              "  </thead>\n",
              "  <tbody>\n",
              "    <tr>\n",
              "      <th>0</th>\n",
              "      <td>Kiku Cuernavaca</td>\n",
              "      <td>134999</td>\n",
              "    </tr>\n",
              "    <tr>\n",
              "      <th>1</th>\n",
              "      <td>puesto de tacos</td>\n",
              "      <td>132825</td>\n",
              "    </tr>\n",
              "    <tr>\n",
              "      <th>2</th>\n",
              "      <td>El Rincón de San Francisco</td>\n",
              "      <td>135106</td>\n",
              "    </tr>\n",
              "    <tr>\n",
              "      <th>3</th>\n",
              "      <td>little pizza Emilio Portes Gil</td>\n",
              "      <td>132667</td>\n",
              "    </tr>\n",
              "    <tr>\n",
              "      <th>4</th>\n",
              "      <td>carnitas_mata</td>\n",
              "      <td>132613</td>\n",
              "    </tr>\n",
              "    <tr>\n",
              "      <th>...</th>\n",
              "      <td>...</td>\n",
              "      <td>...</td>\n",
              "    </tr>\n",
              "    <tr>\n",
              "      <th>125</th>\n",
              "      <td>Chaires</td>\n",
              "      <td>132866</td>\n",
              "    </tr>\n",
              "    <tr>\n",
              "      <th>126</th>\n",
              "      <td>Sushi Itto</td>\n",
              "      <td>135072</td>\n",
              "    </tr>\n",
              "    <tr>\n",
              "      <th>127</th>\n",
              "      <td>Paniroles</td>\n",
              "      <td>135109</td>\n",
              "    </tr>\n",
              "    <tr>\n",
              "      <th>128</th>\n",
              "      <td>Restaurant Bar Coty y Pablo</td>\n",
              "      <td>135019</td>\n",
              "    </tr>\n",
              "    <tr>\n",
              "      <th>129</th>\n",
              "      <td>sirloin stockade</td>\n",
              "      <td>132877</td>\n",
              "    </tr>\n",
              "  </tbody>\n",
              "</table>\n",
              "<p>130 rows × 2 columns</p>\n",
              "</div>"
            ],
            "text/plain": [
              "                               name  placeID\n",
              "0                   Kiku Cuernavaca   134999\n",
              "1                   puesto de tacos   132825\n",
              "2        El Rincón de San Francisco   135106\n",
              "3    little pizza Emilio Portes Gil   132667\n",
              "4                     carnitas_mata   132613\n",
              "..                              ...      ...\n",
              "125                         Chaires   132866\n",
              "126                      Sushi Itto   135072\n",
              "127                       Paniroles   135109\n",
              "128     Restaurant Bar Coty y Pablo   135019\n",
              "129                sirloin stockade   132877\n",
              "\n",
              "[130 rows x 2 columns]"
            ]
          },
          "execution_count": 33,
          "metadata": {},
          "output_type": "execute_result"
        }
      ],
      "source": [
        "matriz_geo_food"
      ]
    },
    {
      "cell_type": "code",
      "execution_count": null,
      "metadata": {
        "id": "JxAYysfThApy",
        "outputId": "574bdd5e-cbc4-4740-f1b6-7c080f61647b"
      },
      "outputs": [
        {
          "data": {
            "text/html": [
              "<div>\n",
              "<style scoped>\n",
              "    .dataframe tbody tr th:only-of-type {\n",
              "        vertical-align: middle;\n",
              "    }\n",
              "\n",
              "    .dataframe tbody tr th {\n",
              "        vertical-align: top;\n",
              "    }\n",
              "\n",
              "    .dataframe thead th {\n",
              "        text-align: right;\n",
              "    }\n",
              "</style>\n",
              "<table border=\"1\" class=\"dataframe\">\n",
              "  <thead>\n",
              "    <tr style=\"text-align: right;\">\n",
              "      <th></th>\n",
              "      <th>name</th>\n",
              "      <th>placeID</th>\n",
              "      <th>userID</th>\n",
              "      <th>food_rating</th>\n",
              "    </tr>\n",
              "  </thead>\n",
              "  <tbody>\n",
              "    <tr>\n",
              "      <th>0</th>\n",
              "      <td>Kiku Cuernavaca</td>\n",
              "      <td>134999</td>\n",
              "      <td>U1093</td>\n",
              "      <td>2</td>\n",
              "    </tr>\n",
              "    <tr>\n",
              "      <th>1</th>\n",
              "      <td>Kiku Cuernavaca</td>\n",
              "      <td>134999</td>\n",
              "      <td>U1066</td>\n",
              "      <td>1</td>\n",
              "    </tr>\n",
              "    <tr>\n",
              "      <th>2</th>\n",
              "      <td>Kiku Cuernavaca</td>\n",
              "      <td>134999</td>\n",
              "      <td>U1040</td>\n",
              "      <td>1</td>\n",
              "    </tr>\n",
              "    <tr>\n",
              "      <th>3</th>\n",
              "      <td>Kiku Cuernavaca</td>\n",
              "      <td>134999</td>\n",
              "      <td>U1110</td>\n",
              "      <td>2</td>\n",
              "    </tr>\n",
              "    <tr>\n",
              "      <th>4</th>\n",
              "      <td>Kiku Cuernavaca</td>\n",
              "      <td>134999</td>\n",
              "      <td>U1121</td>\n",
              "      <td>2</td>\n",
              "    </tr>\n",
              "    <tr>\n",
              "      <th>...</th>\n",
              "      <td>...</td>\n",
              "      <td>...</td>\n",
              "      <td>...</td>\n",
              "      <td>...</td>\n",
              "    </tr>\n",
              "    <tr>\n",
              "      <th>1156</th>\n",
              "      <td>Restaurant Bar Coty y Pablo</td>\n",
              "      <td>135019</td>\n",
              "      <td>U1121</td>\n",
              "      <td>2</td>\n",
              "    </tr>\n",
              "    <tr>\n",
              "      <th>1157</th>\n",
              "      <td>sirloin stockade</td>\n",
              "      <td>132877</td>\n",
              "      <td>U1047</td>\n",
              "      <td>0</td>\n",
              "    </tr>\n",
              "    <tr>\n",
              "      <th>1158</th>\n",
              "      <td>sirloin stockade</td>\n",
              "      <td>132877</td>\n",
              "      <td>U1111</td>\n",
              "      <td>1</td>\n",
              "    </tr>\n",
              "    <tr>\n",
              "      <th>1159</th>\n",
              "      <td>sirloin stockade</td>\n",
              "      <td>132877</td>\n",
              "      <td>U1015</td>\n",
              "      <td>1</td>\n",
              "    </tr>\n",
              "    <tr>\n",
              "      <th>1160</th>\n",
              "      <td>sirloin stockade</td>\n",
              "      <td>132877</td>\n",
              "      <td>U1025</td>\n",
              "      <td>1</td>\n",
              "    </tr>\n",
              "  </tbody>\n",
              "</table>\n",
              "<p>1161 rows × 4 columns</p>\n",
              "</div>"
            ],
            "text/plain": [
              "                             name  placeID userID  food_rating\n",
              "0                 Kiku Cuernavaca   134999  U1093            2\n",
              "1                 Kiku Cuernavaca   134999  U1066            1\n",
              "2                 Kiku Cuernavaca   134999  U1040            1\n",
              "3                 Kiku Cuernavaca   134999  U1110            2\n",
              "4                 Kiku Cuernavaca   134999  U1121            2\n",
              "...                           ...      ...    ...          ...\n",
              "1156  Restaurant Bar Coty y Pablo   135019  U1121            2\n",
              "1157             sirloin stockade   132877  U1047            0\n",
              "1158             sirloin stockade   132877  U1111            1\n",
              "1159             sirloin stockade   132877  U1015            1\n",
              "1160             sirloin stockade   132877  U1025            1\n",
              "\n",
              "[1161 rows x 4 columns]"
            ]
          },
          "execution_count": 34,
          "metadata": {},
          "output_type": "execute_result"
        }
      ],
      "source": [
        "tabla_relacional_food = pd.merge(matriz_geo_food,matriz_ratings_food, on='placeID')   # dataFrame\n",
        "tabla_relacional_food"
      ]
    },
    {
      "cell_type": "code",
      "execution_count": null,
      "metadata": {
        "id": "bvCGdutdhApy",
        "outputId": "a0b31669-c628-400f-f8f4-f9d506abf418"
      },
      "outputs": [
        {
          "data": {
            "text/html": [
              "<div>\n",
              "<style scoped>\n",
              "    .dataframe tbody tr th:only-of-type {\n",
              "        vertical-align: middle;\n",
              "    }\n",
              "\n",
              "    .dataframe tbody tr th {\n",
              "        vertical-align: top;\n",
              "    }\n",
              "\n",
              "    .dataframe thead th {\n",
              "        text-align: right;\n",
              "    }\n",
              "</style>\n",
              "<table border=\"1\" class=\"dataframe\">\n",
              "  <thead>\n",
              "    <tr style=\"text-align: right;\">\n",
              "      <th>name</th>\n",
              "      <th>Abondance Restaurante Bar</th>\n",
              "      <th>Arrachela Grill</th>\n",
              "      <th>Cabana Huasteca</th>\n",
              "      <th>Cafe Chaires</th>\n",
              "      <th>Cafeteria cenidet</th>\n",
              "      <th>Cafeteria y Restaurant El Pacifico</th>\n",
              "      <th>Carls Jr</th>\n",
              "      <th>Carnitas Mata  Calle 16 de Septiembre</th>\n",
              "      <th>Carreton de Flautas y Migadas</th>\n",
              "      <th>Cenaduria El RincÃ³n de Tlaquepaque</th>\n",
              "      <th>...</th>\n",
              "      <th>puesto de tacos</th>\n",
              "      <th>rockabilly</th>\n",
              "      <th>shi ro ie</th>\n",
              "      <th>sirloin stockade</th>\n",
              "      <th>tacos abi</th>\n",
              "      <th>tacos de barbacoa enfrente del Tec</th>\n",
              "      <th>tacos de la estacion</th>\n",
              "      <th>tacos los volcanes</th>\n",
              "      <th>tortas hawai</th>\n",
              "      <th>vips</th>\n",
              "    </tr>\n",
              "    <tr>\n",
              "      <th>userID</th>\n",
              "      <th></th>\n",
              "      <th></th>\n",
              "      <th></th>\n",
              "      <th></th>\n",
              "      <th></th>\n",
              "      <th></th>\n",
              "      <th></th>\n",
              "      <th></th>\n",
              "      <th></th>\n",
              "      <th></th>\n",
              "      <th></th>\n",
              "      <th></th>\n",
              "      <th></th>\n",
              "      <th></th>\n",
              "      <th></th>\n",
              "      <th></th>\n",
              "      <th></th>\n",
              "      <th></th>\n",
              "      <th></th>\n",
              "      <th></th>\n",
              "      <th></th>\n",
              "    </tr>\n",
              "  </thead>\n",
              "  <tbody>\n",
              "    <tr>\n",
              "      <th>U1001</th>\n",
              "      <td>0</td>\n",
              "      <td>0</td>\n",
              "      <td>0</td>\n",
              "      <td>0</td>\n",
              "      <td>0</td>\n",
              "      <td>0</td>\n",
              "      <td>0</td>\n",
              "      <td>0</td>\n",
              "      <td>0</td>\n",
              "      <td>0</td>\n",
              "      <td>...</td>\n",
              "      <td>2</td>\n",
              "      <td>0</td>\n",
              "      <td>0</td>\n",
              "      <td>0</td>\n",
              "      <td>0</td>\n",
              "      <td>0</td>\n",
              "      <td>0</td>\n",
              "      <td>0</td>\n",
              "      <td>0</td>\n",
              "      <td>0</td>\n",
              "    </tr>\n",
              "    <tr>\n",
              "      <th>U1002</th>\n",
              "      <td>0</td>\n",
              "      <td>0</td>\n",
              "      <td>0</td>\n",
              "      <td>0</td>\n",
              "      <td>0</td>\n",
              "      <td>0</td>\n",
              "      <td>0</td>\n",
              "      <td>0</td>\n",
              "      <td>0</td>\n",
              "      <td>0</td>\n",
              "      <td>...</td>\n",
              "      <td>2</td>\n",
              "      <td>0</td>\n",
              "      <td>0</td>\n",
              "      <td>0</td>\n",
              "      <td>0</td>\n",
              "      <td>0</td>\n",
              "      <td>0</td>\n",
              "      <td>0</td>\n",
              "      <td>0</td>\n",
              "      <td>0</td>\n",
              "    </tr>\n",
              "    <tr>\n",
              "      <th>U1003</th>\n",
              "      <td>0</td>\n",
              "      <td>0</td>\n",
              "      <td>2</td>\n",
              "      <td>0</td>\n",
              "      <td>0</td>\n",
              "      <td>0</td>\n",
              "      <td>0</td>\n",
              "      <td>0</td>\n",
              "      <td>0</td>\n",
              "      <td>0</td>\n",
              "      <td>...</td>\n",
              "      <td>2</td>\n",
              "      <td>2</td>\n",
              "      <td>0</td>\n",
              "      <td>0</td>\n",
              "      <td>0</td>\n",
              "      <td>0</td>\n",
              "      <td>0</td>\n",
              "      <td>0</td>\n",
              "      <td>0</td>\n",
              "      <td>0</td>\n",
              "    </tr>\n",
              "    <tr>\n",
              "      <th>U1004</th>\n",
              "      <td>0</td>\n",
              "      <td>0</td>\n",
              "      <td>0</td>\n",
              "      <td>0</td>\n",
              "      <td>0</td>\n",
              "      <td>2</td>\n",
              "      <td>0</td>\n",
              "      <td>0</td>\n",
              "      <td>0</td>\n",
              "      <td>0</td>\n",
              "      <td>...</td>\n",
              "      <td>0</td>\n",
              "      <td>0</td>\n",
              "      <td>0</td>\n",
              "      <td>0</td>\n",
              "      <td>0</td>\n",
              "      <td>0</td>\n",
              "      <td>0</td>\n",
              "      <td>2</td>\n",
              "      <td>0</td>\n",
              "      <td>0</td>\n",
              "    </tr>\n",
              "    <tr>\n",
              "      <th>U1005</th>\n",
              "      <td>0</td>\n",
              "      <td>0</td>\n",
              "      <td>0</td>\n",
              "      <td>0</td>\n",
              "      <td>0</td>\n",
              "      <td>1</td>\n",
              "      <td>0</td>\n",
              "      <td>0</td>\n",
              "      <td>0</td>\n",
              "      <td>0</td>\n",
              "      <td>...</td>\n",
              "      <td>0</td>\n",
              "      <td>0</td>\n",
              "      <td>0</td>\n",
              "      <td>0</td>\n",
              "      <td>0</td>\n",
              "      <td>0</td>\n",
              "      <td>0</td>\n",
              "      <td>0</td>\n",
              "      <td>0</td>\n",
              "      <td>0</td>\n",
              "    </tr>\n",
              "    <tr>\n",
              "      <th>U1006</th>\n",
              "      <td>0</td>\n",
              "      <td>0</td>\n",
              "      <td>0</td>\n",
              "      <td>0</td>\n",
              "      <td>0</td>\n",
              "      <td>0</td>\n",
              "      <td>0</td>\n",
              "      <td>0</td>\n",
              "      <td>0</td>\n",
              "      <td>0</td>\n",
              "      <td>...</td>\n",
              "      <td>1</td>\n",
              "      <td>0</td>\n",
              "      <td>2</td>\n",
              "      <td>0</td>\n",
              "      <td>0</td>\n",
              "      <td>0</td>\n",
              "      <td>0</td>\n",
              "      <td>0</td>\n",
              "      <td>0</td>\n",
              "      <td>0</td>\n",
              "    </tr>\n",
              "    <tr>\n",
              "      <th>U1007</th>\n",
              "      <td>0</td>\n",
              "      <td>0</td>\n",
              "      <td>0</td>\n",
              "      <td>1</td>\n",
              "      <td>0</td>\n",
              "      <td>1</td>\n",
              "      <td>0</td>\n",
              "      <td>0</td>\n",
              "      <td>0</td>\n",
              "      <td>0</td>\n",
              "      <td>...</td>\n",
              "      <td>0</td>\n",
              "      <td>0</td>\n",
              "      <td>0</td>\n",
              "      <td>0</td>\n",
              "      <td>0</td>\n",
              "      <td>0</td>\n",
              "      <td>0</td>\n",
              "      <td>0</td>\n",
              "      <td>0</td>\n",
              "      <td>0</td>\n",
              "    </tr>\n",
              "    <tr>\n",
              "      <th>U1008</th>\n",
              "      <td>1</td>\n",
              "      <td>0</td>\n",
              "      <td>0</td>\n",
              "      <td>0</td>\n",
              "      <td>0</td>\n",
              "      <td>0</td>\n",
              "      <td>0</td>\n",
              "      <td>0</td>\n",
              "      <td>0</td>\n",
              "      <td>0</td>\n",
              "      <td>...</td>\n",
              "      <td>0</td>\n",
              "      <td>0</td>\n",
              "      <td>0</td>\n",
              "      <td>0</td>\n",
              "      <td>0</td>\n",
              "      <td>0</td>\n",
              "      <td>0</td>\n",
              "      <td>0</td>\n",
              "      <td>0</td>\n",
              "      <td>0</td>\n",
              "    </tr>\n",
              "    <tr>\n",
              "      <th>U1009</th>\n",
              "      <td>0</td>\n",
              "      <td>0</td>\n",
              "      <td>2</td>\n",
              "      <td>0</td>\n",
              "      <td>0</td>\n",
              "      <td>0</td>\n",
              "      <td>0</td>\n",
              "      <td>0</td>\n",
              "      <td>0</td>\n",
              "      <td>0</td>\n",
              "      <td>...</td>\n",
              "      <td>1</td>\n",
              "      <td>0</td>\n",
              "      <td>0</td>\n",
              "      <td>0</td>\n",
              "      <td>0</td>\n",
              "      <td>0</td>\n",
              "      <td>0</td>\n",
              "      <td>0</td>\n",
              "      <td>0</td>\n",
              "      <td>0</td>\n",
              "    </tr>\n",
              "    <tr>\n",
              "      <th>U1010</th>\n",
              "      <td>0</td>\n",
              "      <td>0</td>\n",
              "      <td>0</td>\n",
              "      <td>0</td>\n",
              "      <td>0</td>\n",
              "      <td>0</td>\n",
              "      <td>0</td>\n",
              "      <td>0</td>\n",
              "      <td>0</td>\n",
              "      <td>0</td>\n",
              "      <td>...</td>\n",
              "      <td>0</td>\n",
              "      <td>0</td>\n",
              "      <td>0</td>\n",
              "      <td>0</td>\n",
              "      <td>0</td>\n",
              "      <td>0</td>\n",
              "      <td>0</td>\n",
              "      <td>0</td>\n",
              "      <td>0</td>\n",
              "      <td>0</td>\n",
              "    </tr>\n",
              "  </tbody>\n",
              "</table>\n",
              "<p>10 rows × 129 columns</p>\n",
              "</div>"
            ],
            "text/plain": [
              "name    Abondance Restaurante Bar  Arrachela Grill  Cabana Huasteca  \\\n",
              "userID                                                                \n",
              "U1001                           0                0                0   \n",
              "U1002                           0                0                0   \n",
              "U1003                           0                0                2   \n",
              "U1004                           0                0                0   \n",
              "U1005                           0                0                0   \n",
              "U1006                           0                0                0   \n",
              "U1007                           0                0                0   \n",
              "U1008                           1                0                0   \n",
              "U1009                           0                0                2   \n",
              "U1010                           0                0                0   \n",
              "\n",
              "name    Cafe Chaires  Cafeteria cenidet  Cafeteria y Restaurant El Pacifico  \\\n",
              "userID                                                                        \n",
              "U1001              0                  0                                   0   \n",
              "U1002              0                  0                                   0   \n",
              "U1003              0                  0                                   0   \n",
              "U1004              0                  0                                   2   \n",
              "U1005              0                  0                                   1   \n",
              "U1006              0                  0                                   0   \n",
              "U1007              1                  0                                   1   \n",
              "U1008              0                  0                                   0   \n",
              "U1009              0                  0                                   0   \n",
              "U1010              0                  0                                   0   \n",
              "\n",
              "name    Carls Jr  Carnitas Mata  Calle 16 de Septiembre  \\\n",
              "userID                                                    \n",
              "U1001          0                                      0   \n",
              "U1002          0                                      0   \n",
              "U1003          0                                      0   \n",
              "U1004          0                                      0   \n",
              "U1005          0                                      0   \n",
              "U1006          0                                      0   \n",
              "U1007          0                                      0   \n",
              "U1008          0                                      0   \n",
              "U1009          0                                      0   \n",
              "U1010          0                                      0   \n",
              "\n",
              "name    Carreton de Flautas y Migadas  Cenaduria El RincÃ³n de Tlaquepaque  \\\n",
              "userID                                                                       \n",
              "U1001                               0                                    0   \n",
              "U1002                               0                                    0   \n",
              "U1003                               0                                    0   \n",
              "U1004                               0                                    0   \n",
              "U1005                               0                                    0   \n",
              "U1006                               0                                    0   \n",
              "U1007                               0                                    0   \n",
              "U1008                               0                                    0   \n",
              "U1009                               0                                    0   \n",
              "U1010                               0                                    0   \n",
              "\n",
              "name    ...  puesto de tacos  rockabilly   shi ro ie  sirloin stockade  \\\n",
              "userID  ...                                                              \n",
              "U1001   ...                2            0          0                 0   \n",
              "U1002   ...                2            0          0                 0   \n",
              "U1003   ...                2            2          0                 0   \n",
              "U1004   ...                0            0          0                 0   \n",
              "U1005   ...                0            0          0                 0   \n",
              "U1006   ...                1            0          2                 0   \n",
              "U1007   ...                0            0          0                 0   \n",
              "U1008   ...                0            0          0                 0   \n",
              "U1009   ...                1            0          0                 0   \n",
              "U1010   ...                0            0          0                 0   \n",
              "\n",
              "name    tacos abi  tacos de barbacoa enfrente del Tec  tacos de la estacion  \\\n",
              "userID                                                                        \n",
              "U1001           0                                   0                     0   \n",
              "U1002           0                                   0                     0   \n",
              "U1003           0                                   0                     0   \n",
              "U1004           0                                   0                     0   \n",
              "U1005           0                                   0                     0   \n",
              "U1006           0                                   0                     0   \n",
              "U1007           0                                   0                     0   \n",
              "U1008           0                                   0                     0   \n",
              "U1009           0                                   0                     0   \n",
              "U1010           0                                   0                     0   \n",
              "\n",
              "name    tacos los volcanes  tortas hawai  vips  \n",
              "userID                                          \n",
              "U1001                    0             0     0  \n",
              "U1002                    0             0     0  \n",
              "U1003                    0             0     0  \n",
              "U1004                    2             0     0  \n",
              "U1005                    0             0     0  \n",
              "U1006                    0             0     0  \n",
              "U1007                    0             0     0  \n",
              "U1008                    0             0     0  \n",
              "U1009                    0             0     0  \n",
              "U1010                    0             0     0  \n",
              "\n",
              "[10 rows x 129 columns]"
            ]
          },
          "execution_count": 35,
          "metadata": {},
          "output_type": "execute_result"
        }
      ],
      "source": [
        "UtMx_food = tabla_relacional_food.pivot_table(values='food_rating', index='userID', columns='name', fill_value=0)\n",
        "\n",
        "UtMx_food.head(10)"
      ]
    },
    {
      "cell_type": "code",
      "execution_count": null,
      "metadata": {
        "id": "1Uh766nShApy",
        "outputId": "f750fe3f-8885-4984-eebb-dc7dcb336278"
      },
      "outputs": [
        {
          "data": {
            "text/plain": [
              "(138, 129)"
            ]
          },
          "execution_count": 36,
          "metadata": {},
          "output_type": "execute_result"
        }
      ],
      "source": [
        "UtMx_food.shape "
      ]
    },
    {
      "cell_type": "code",
      "execution_count": null,
      "metadata": {
        "id": "7Qv5Ap5ShApz",
        "outputId": "424044c2-f2c7-4e35-a7f1-3dce53bb0e79"
      },
      "outputs": [
        {
          "name": "stdout",
          "output_type": "stream",
          "text": [
            "Total de elementos de la matriz de utilidad: 17802\n",
            "Total de elementos diferentes de cero: 895\n",
            "Porcentaje de elementos diferentes de cero: 5.0%\n"
          ]
        }
      ],
      "source": [
        "print('Total de elementos de la matriz de utilidad: %d' % (UtMx_food.size))\n",
        "print('Total de elementos diferentes de cero: %d' % (np.count_nonzero(UtMx_food)))\n",
        "print('Porcentaje de elementos diferentes de cero: %.1f%%' % (100 * np.count_nonzero(UtMx_food) / UtMx_food.size))"
      ]
    },
    {
      "cell_type": "code",
      "execution_count": null,
      "metadata": {
        "id": "ON9u3-OWhApz",
        "outputId": "0e0ffef3-2f9e-4414-e134-15d7c70ec8ce"
      },
      "outputs": [
        {
          "data": {
            "text/plain": [
              "(129, 138)"
            ]
          },
          "execution_count": 38,
          "metadata": {},
          "output_type": "execute_result"
        }
      ],
      "source": [
        "X_food = UtMx_food.T     # Tomamos la traspuesta para que los renglones sean las películas y las columnas los usuarios.\n",
        "X_food.shape"
      ]
    },
    {
      "cell_type": "code",
      "execution_count": null,
      "metadata": {
        "id": "obdIcHI4hAp0",
        "outputId": "82d4ea52-4749-4a2e-d677-650f1c2423de"
      },
      "outputs": [
        {
          "data": {
            "text/html": [
              "<style>#sk-container-id-2 {color: black;background-color: white;}#sk-container-id-2 pre{padding: 0;}#sk-container-id-2 div.sk-toggleable {background-color: white;}#sk-container-id-2 label.sk-toggleable__label {cursor: pointer;display: block;width: 100%;margin-bottom: 0;padding: 0.3em;box-sizing: border-box;text-align: center;}#sk-container-id-2 label.sk-toggleable__label-arrow:before {content: \"▸\";float: left;margin-right: 0.25em;color: #696969;}#sk-container-id-2 label.sk-toggleable__label-arrow:hover:before {color: black;}#sk-container-id-2 div.sk-estimator:hover label.sk-toggleable__label-arrow:before {color: black;}#sk-container-id-2 div.sk-toggleable__content {max-height: 0;max-width: 0;overflow: hidden;text-align: left;background-color: #f0f8ff;}#sk-container-id-2 div.sk-toggleable__content pre {margin: 0.2em;color: black;border-radius: 0.25em;background-color: #f0f8ff;}#sk-container-id-2 input.sk-toggleable__control:checked~div.sk-toggleable__content {max-height: 200px;max-width: 100%;overflow: auto;}#sk-container-id-2 input.sk-toggleable__control:checked~label.sk-toggleable__label-arrow:before {content: \"▾\";}#sk-container-id-2 div.sk-estimator input.sk-toggleable__control:checked~label.sk-toggleable__label {background-color: #d4ebff;}#sk-container-id-2 div.sk-label input.sk-toggleable__control:checked~label.sk-toggleable__label {background-color: #d4ebff;}#sk-container-id-2 input.sk-hidden--visually {border: 0;clip: rect(1px 1px 1px 1px);clip: rect(1px, 1px, 1px, 1px);height: 1px;margin: -1px;overflow: hidden;padding: 0;position: absolute;width: 1px;}#sk-container-id-2 div.sk-estimator {font-family: monospace;background-color: #f0f8ff;border: 1px dotted black;border-radius: 0.25em;box-sizing: border-box;margin-bottom: 0.5em;}#sk-container-id-2 div.sk-estimator:hover {background-color: #d4ebff;}#sk-container-id-2 div.sk-parallel-item::after {content: \"\";width: 100%;border-bottom: 1px solid gray;flex-grow: 1;}#sk-container-id-2 div.sk-label:hover label.sk-toggleable__label {background-color: #d4ebff;}#sk-container-id-2 div.sk-serial::before {content: \"\";position: absolute;border-left: 1px solid gray;box-sizing: border-box;top: 0;bottom: 0;left: 50%;z-index: 0;}#sk-container-id-2 div.sk-serial {display: flex;flex-direction: column;align-items: center;background-color: white;padding-right: 0.2em;padding-left: 0.2em;position: relative;}#sk-container-id-2 div.sk-item {position: relative;z-index: 1;}#sk-container-id-2 div.sk-parallel {display: flex;align-items: stretch;justify-content: center;background-color: white;position: relative;}#sk-container-id-2 div.sk-item::before, #sk-container-id-2 div.sk-parallel-item::before {content: \"\";position: absolute;border-left: 1px solid gray;box-sizing: border-box;top: 0;bottom: 0;left: 50%;z-index: -1;}#sk-container-id-2 div.sk-parallel-item {display: flex;flex-direction: column;z-index: 1;position: relative;background-color: white;}#sk-container-id-2 div.sk-parallel-item:first-child::after {align-self: flex-end;width: 50%;}#sk-container-id-2 div.sk-parallel-item:last-child::after {align-self: flex-start;width: 50%;}#sk-container-id-2 div.sk-parallel-item:only-child::after {width: 0;}#sk-container-id-2 div.sk-dashed-wrapped {border: 1px dashed gray;margin: 0 0.4em 0.5em 0.4em;box-sizing: border-box;padding-bottom: 0.4em;background-color: white;}#sk-container-id-2 div.sk-label label {font-family: monospace;font-weight: bold;display: inline-block;line-height: 1.2em;}#sk-container-id-2 div.sk-label-container {text-align: center;}#sk-container-id-2 div.sk-container {/* jupyter's `normalize.less` sets `[hidden] { display: none; }` but bootstrap.min.css set `[hidden] { display: none !important; }` so we also need the `!important` here to be able to override the default hidden behavior on the sphinx rendered scikit-learn.org. See: https://github.com/scikit-learn/scikit-learn/issues/21755 */display: inline-block !important;position: relative;}#sk-container-id-2 div.sk-text-repr-fallback {display: none;}</style><div id=\"sk-container-id-2\" class=\"sk-top-container\"><div class=\"sk-text-repr-fallback\"><pre>TruncatedSVD(n_components=137, random_state=42)</pre><b>In a Jupyter environment, please rerun this cell to show the HTML representation or trust the notebook. <br />On GitHub, the HTML representation is unable to render, please try loading this page with nbviewer.org.</b></div><div class=\"sk-container\" hidden><div class=\"sk-item\"><div class=\"sk-estimator sk-toggleable\"><input class=\"sk-toggleable__control sk-hidden--visually\" id=\"sk-estimator-id-2\" type=\"checkbox\" checked><label for=\"sk-estimator-id-2\" class=\"sk-toggleable__label sk-toggleable__label-arrow\">TruncatedSVD</label><div class=\"sk-toggleable__content\"><pre>TruncatedSVD(n_components=137, random_state=42)</pre></div></div></div></div></div>"
            ],
            "text/plain": [
              "TruncatedSVD(n_components=137, random_state=42)"
            ]
          },
          "execution_count": 39,
          "metadata": {},
          "output_type": "execute_result"
        }
      ],
      "source": [
        "SVD_food = TruncatedSVD(n_components=137, random_state=42)  \n",
        "SVD_food.fit(X_food)"
      ]
    },
    {
      "cell_type": "code",
      "execution_count": null,
      "metadata": {
        "id": "qI5VMQffhAp0",
        "outputId": "1b0f8453-5d0f-4520-8b98-68541989e0a1"
      },
      "outputs": [
        {
          "name": "stdout",
          "output_type": "stream",
          "text": [
            "La cantidad de valores singulares obtenidos es de: 129\n"
          ]
        }
      ],
      "source": [
        "b=0\n",
        "for a in SVD_food.singular_values_:\n",
        "    b=b+1\n",
        "print(\"La cantidad de valores singulares obtenidos es de:\",b)"
      ]
    },
    {
      "cell_type": "code",
      "execution_count": null,
      "metadata": {
        "id": "uvP2sFjihAp1",
        "outputId": "b1fe1af0-fc3e-4f57-ce61-251fb9acafb6"
      },
      "outputs": [
        {
          "data": {
            "text/plain": [
              "(129, 129)"
            ]
          },
          "execution_count": 41,
          "metadata": {},
          "output_type": "execute_result"
        }
      ],
      "source": [
        "resultant_matrix_food = SVD_food.fit_transform(X_food)\n",
        "resultant_matrix_food.shape"
      ]
    },
    {
      "cell_type": "code",
      "execution_count": null,
      "metadata": {
        "id": "UVPZy_0HhAp1",
        "outputId": "21dc2785-c2bf-4698-d12c-d46dcf8aced4"
      },
      "outputs": [
        {
          "data": {
            "text/plain": [
              "(129, 129)"
            ]
          },
          "execution_count": 42,
          "metadata": {},
          "output_type": "execute_result"
        }
      ],
      "source": [
        "corrMx_food = np.corrcoef(resultant_matrix_food, )\n",
        "corrMx_food.shape"
      ]
    },
    {
      "cell_type": "code",
      "execution_count": null,
      "metadata": {
        "id": "aaedxa83hAp2",
        "outputId": "153938a7-6a53-424b-e084-e38c512b3adb"
      },
      "outputs": [
        {
          "data": {
            "text/plain": [
              "88"
            ]
          },
          "execution_count": 43,
          "metadata": {},
          "output_type": "execute_result"
        }
      ],
      "source": [
        "me_gusta_food = \"Subway\"\n",
        "\n",
        "names_food = UtMx_food.columns\n",
        "names_list_food = list(names_food)\n",
        "id_megusta_food = names_list_food.index(me_gusta_food)\n",
        "\n",
        "id_megusta_food"
      ]
    },
    {
      "cell_type": "code",
      "execution_count": null,
      "metadata": {
        "id": "IquypkUmhAp2",
        "outputId": "bcbcdc5a-858c-4a6f-ef15-e0dc6dc0632a"
      },
      "outputs": [
        {
          "name": "stdout",
          "output_type": "stream",
          "text": [
            "(129,)\n",
            "[-5.06418108e-03  1.53891772e-03 -7.15705294e-03 -7.51437349e-04\n",
            "  3.57844065e-04 -4.27908953e-03 -4.10491062e-03 -8.72391553e-03\n",
            " -5.80659154e-03 -7.37551348e-03 -6.29677017e-03  1.19529006e-03\n",
            " -5.49056441e-03 -6.25106315e-03 -2.26808294e-04  2.26784575e-03\n",
            " -4.97923491e-03 -7.33491870e-03 -5.49091909e-05 -6.54487708e-03\n",
            " -7.17291384e-04  2.31333734e-01 -9.42653806e-04  1.15809414e-03\n",
            " -2.44343966e-03 -2.46720616e-03 -8.43368969e-04 -2.05629573e-03\n",
            " -3.70288596e-03  2.50357400e-01 -5.28927854e-03  2.72981977e-03\n",
            "  4.14365709e-04 -9.51153872e-03  2.32009229e-03 -9.29532082e-03\n",
            " -4.03970901e-03  1.31858098e-01 -8.36645261e-03 -2.30125601e-03\n",
            " -2.61409620e-03  4.15222053e-01  4.25538306e-03  3.02880631e-03\n",
            " -2.46282020e-03  2.09493113e-01  3.12082362e-01 -3.01154158e-03\n",
            " -3.10972278e-04 -1.11824996e-03  8.07121501e-04  2.24213782e-01\n",
            "  2.65096107e-04  6.44807197e-04  2.32708368e-01  3.31706780e-01\n",
            "  6.95063851e-04  3.47994174e-04  8.16413374e-01  1.04699730e-04\n",
            "  4.68949686e-01  4.43119191e-03 -2.79083259e-03 -4.74310321e-03\n",
            "  9.45625400e-02 -4.32375633e-03 -9.91593839e-03  6.59128482e-03\n",
            " -5.26009411e-03 -8.53125476e-03 -1.08456080e-02  5.80519412e-03\n",
            "  3.26361206e-03  1.18239199e-03  1.50584868e-04 -6.05677040e-03\n",
            " -8.57964598e-04 -5.47089297e-04  1.30496863e-03  1.14112586e-03\n",
            " -3.15094052e-03  1.03603724e-02  2.95398913e-03 -9.38144208e-03\n",
            " -6.29169520e-04  3.81819463e-01  3.65656688e-01  4.28784461e-04\n",
            "  1.00000000e+00 -1.99936321e-03 -4.29943952e-03 -9.95112702e-03\n",
            " -6.58885162e-03 -4.81048142e-03 -5.63718446e-03 -1.74366758e-03\n",
            "  3.01538197e-03  4.42147702e-01 -5.86019551e-03 -1.52653108e-03\n",
            " -8.54349820e-03  3.15606317e-03  2.45599865e-04 -4.60337555e-03\n",
            " -7.91423599e-04  8.56988031e-04  1.98632124e-03 -9.14149262e-04\n",
            " -9.63185863e-03 -6.59421891e-03 -3.61768796e-03 -4.98574218e-03\n",
            " -2.08219907e-03 -8.12719293e-04 -2.93115223e-03 -2.83804692e-03\n",
            "  2.86699454e-03 -2.84151084e-04 -6.54974706e-03 -8.56547287e-03\n",
            "  1.73284166e-04 -9.40493206e-03 -7.95661685e-03 -1.05138327e-02\n",
            " -5.78915963e-03 -5.39973770e-03 -7.67089017e-03  6.33375557e-03\n",
            " -2.57101052e-03]\n"
          ]
        }
      ],
      "source": [
        "corr_recomienda_food = corrMx_food[id_megusta_food]\n",
        "print(corr_recomienda_food.shape)\n",
        "print(corr_recomienda_food)"
      ]
    },
    {
      "cell_type": "code",
      "execution_count": null,
      "metadata": {
        "id": "JTn59MpdhAp2",
        "outputId": "c5b95e9f-69da-4286-a8b7-50d18e879c17"
      },
      "outputs": [
        {
          "data": {
            "text/plain": [
              "1.0"
            ]
          },
          "execution_count": 45,
          "metadata": {},
          "output_type": "execute_result"
        }
      ],
      "source": [
        "corr_recomienda_food[id_megusta_food]"
      ]
    },
    {
      "cell_type": "code",
      "execution_count": null,
      "metadata": {
        "id": "r1AuoOZohAp3",
        "outputId": "d0b77127-b1d5-4a16-899c-c17c259e4c0f"
      },
      "outputs": [
        {
          "data": {
            "text/plain": [
              "['Kiku Cuernavaca',\n",
              " 'Mariscos Tia Licha',\n",
              " 'Paniroles',\n",
              " 'Restaurant Familiar El Chino',\n",
              " 'Restaurant Las Mananitas',\n",
              " 'Restaurant Teely',\n",
              " 'Restaurant and Bar and Clothesline Carlos N Charlies',\n",
              " 'Rincon del Bife',\n",
              " 'Sanborns Casa Piedra',\n",
              " 'Vips']"
            ]
          },
          "execution_count": 46,
          "metadata": {},
          "output_type": "execute_result"
        }
      ],
      "source": [
        "mejores10_food = list(names_food[(corr_recomienda_food > 0.232)& (corr_recomienda_food < 1)])\n",
        "mejores10_food"
      ]
    },
    {
      "cell_type": "code",
      "execution_count": null,
      "metadata": {
        "id": "AIHznkpihAp3",
        "outputId": "ccc6173a-18e2-4351-c6a3-47c7a3069bf5"
      },
      "outputs": [
        {
          "data": {
            "text/plain": [
              "[0.2503574000343761,\n",
              " 0.4152220526777525,\n",
              " 0.3120823620746023,\n",
              " 0.2327083683490987,\n",
              " 0.33170678033949996,\n",
              " 0.8164133737408052,\n",
              " 0.4689496858109286,\n",
              " 0.38181946304071174,\n",
              " 0.3656566879992947,\n",
              " 0.4421477019057163]"
            ]
          },
          "execution_count": 47,
          "metadata": {},
          "output_type": "execute_result"
        }
      ],
      "source": [
        "list(corr_recomienda_food[(corr_recomienda_food > 0.232)& (corr_recomienda_food < 1)])\n"
      ]
    },
    {
      "cell_type": "code",
      "execution_count": null,
      "metadata": {
        "id": "c1k-UB2uhAp4",
        "outputId": "cff8429e-f6e1-44c6-a249-f028310173ee"
      },
      "outputs": [
        {
          "name": "stdout",
          "output_type": "stream",
          "text": [
            "Longitud de la segunda lista de recomendaciones: 10 \n",
            "\n",
            "Número de recomendaciones que son iguales entre la lista con valores singulares full y la segunda lista: 9\n",
            "\n",
            "Cantidad de información simplificada con los primeros 72 vectores singulares:\n",
            "13.5%\n"
          ]
        }
      ],
      "source": [
        "def busqueda_SVD(n,X,id_megusta,mejores10): \n",
        "    \n",
        "    SVD = TruncatedSVD(n_components=137, random_state=1)  \n",
        "    SVD.fit(X)\n",
        "    \n",
        "    \n",
        "    SVD_busqueda = TruncatedSVD(n_components=n, random_state=42) \n",
        "    SVD_busqueda.fit(X)\n",
        "    resultant_matrix_busqueda= SVD_busqueda.fit_transform(X)\n",
        "    corrMx_busqueda = np.corrcoef(resultant_matrix_busqueda, )\n",
        "    corr_recomienda_busqueda = corrMx_busqueda[id_megusta]\n",
        "    comparacion_mejores = list(names[(corr_recomienda_busqueda > 0.2515)& (corr_recomienda_busqueda < 1)])\n",
        "    print(\"Longitud de la segunda lista de recomendaciones:\",len(comparacion_mejores),\"\\n\")\n",
        "    print(\"Número de recomendaciones que son iguales entre la lista con valores singulares full y la segunda lista:\",len(set(mejores10).intersection(comparacion_mejores)))\n",
        "    print('\\nCantidad de información simplificada con los primeros %d vectores singulares:' % n)\n",
        "    print('%.1f%%' %  (100 * (1- (SVD.singular_values_[0:n]).sum() / (SVD.singular_values_).sum())))\n",
        "    return \n",
        "\n",
        "busqueda_SVD(72,X_food,id_megusta_food,mejores10_food)"
      ]
    },
    {
      "cell_type": "markdown",
      "metadata": {
        "id": "54j-WjyihAp4"
      },
      "source": [
        "**Conclusiones del ejercicio 6**- En este caso, hubo una variación grande si comparamos Subway General vs Subway Ratings Comida, en el primer caso, necesitamos 8 valores singulares y en este caso estamos necesitando 72. Esto significa que la cantidad de información que podemos reducir, para ratings_food, es mucho menor que comparada para los ratings_general, pues solamente pudimos reducir el 13.5%. También los porcentajes de correlación tuvimos que bajarlos mucho para poder tener una eficacia del 90%."
      ]
    },
    {
      "cell_type": "markdown",
      "metadata": {
        "id": "lUvqUSV5cd-Z"
      },
      "source": [
        "#**Ejercicio-7.**\n",
        "\n",
        "7. Repite los ejercicios 1 a 4 generando ahora la matriz de utilidad en la cual los renglones son los usuarios (user_ID), las columnas los nombres de los restaurantes (name) y las entradas la evaluación dada al servicio (service_rating). Incluye tus conclusiones."
      ]
    },
    {
      "cell_type": "code",
      "execution_count": null,
      "metadata": {
        "id": "i4M6J9MehAp5"
      },
      "outputs": [],
      "source": [
        "matriz_ratings_service = ratings[[ 'userID','service_rating','placeID']] \n",
        "matriz_geo_service = geo[['name', 'placeID']] "
      ]
    },
    {
      "cell_type": "code",
      "execution_count": null,
      "metadata": {
        "id": "TmXidIqtci7D",
        "outputId": "71a6ae49-99e3-489d-eb41-59277d629dc7"
      },
      "outputs": [
        {
          "data": {
            "text/html": [
              "<div>\n",
              "<style scoped>\n",
              "    .dataframe tbody tr th:only-of-type {\n",
              "        vertical-align: middle;\n",
              "    }\n",
              "\n",
              "    .dataframe tbody tr th {\n",
              "        vertical-align: top;\n",
              "    }\n",
              "\n",
              "    .dataframe thead th {\n",
              "        text-align: right;\n",
              "    }\n",
              "</style>\n",
              "<table border=\"1\" class=\"dataframe\">\n",
              "  <thead>\n",
              "    <tr style=\"text-align: right;\">\n",
              "      <th></th>\n",
              "      <th>userID</th>\n",
              "      <th>service_rating</th>\n",
              "      <th>placeID</th>\n",
              "    </tr>\n",
              "  </thead>\n",
              "  <tbody>\n",
              "    <tr>\n",
              "      <th>0</th>\n",
              "      <td>U1077</td>\n",
              "      <td>2</td>\n",
              "      <td>135085</td>\n",
              "    </tr>\n",
              "    <tr>\n",
              "      <th>1</th>\n",
              "      <td>U1077</td>\n",
              "      <td>1</td>\n",
              "      <td>135038</td>\n",
              "    </tr>\n",
              "    <tr>\n",
              "      <th>2</th>\n",
              "      <td>U1077</td>\n",
              "      <td>2</td>\n",
              "      <td>132825</td>\n",
              "    </tr>\n",
              "    <tr>\n",
              "      <th>3</th>\n",
              "      <td>U1077</td>\n",
              "      <td>2</td>\n",
              "      <td>135060</td>\n",
              "    </tr>\n",
              "    <tr>\n",
              "      <th>4</th>\n",
              "      <td>U1068</td>\n",
              "      <td>2</td>\n",
              "      <td>135104</td>\n",
              "    </tr>\n",
              "    <tr>\n",
              "      <th>...</th>\n",
              "      <td>...</td>\n",
              "      <td>...</td>\n",
              "      <td>...</td>\n",
              "    </tr>\n",
              "    <tr>\n",
              "      <th>1156</th>\n",
              "      <td>U1043</td>\n",
              "      <td>1</td>\n",
              "      <td>132630</td>\n",
              "    </tr>\n",
              "    <tr>\n",
              "      <th>1157</th>\n",
              "      <td>U1011</td>\n",
              "      <td>0</td>\n",
              "      <td>132715</td>\n",
              "    </tr>\n",
              "    <tr>\n",
              "      <th>1158</th>\n",
              "      <td>U1068</td>\n",
              "      <td>0</td>\n",
              "      <td>132733</td>\n",
              "    </tr>\n",
              "    <tr>\n",
              "      <th>1159</th>\n",
              "      <td>U1068</td>\n",
              "      <td>1</td>\n",
              "      <td>132594</td>\n",
              "    </tr>\n",
              "    <tr>\n",
              "      <th>1160</th>\n",
              "      <td>U1068</td>\n",
              "      <td>0</td>\n",
              "      <td>132660</td>\n",
              "    </tr>\n",
              "  </tbody>\n",
              "</table>\n",
              "<p>1161 rows × 3 columns</p>\n",
              "</div>"
            ],
            "text/plain": [
              "     userID  service_rating  placeID\n",
              "0     U1077               2   135085\n",
              "1     U1077               1   135038\n",
              "2     U1077               2   132825\n",
              "3     U1077               2   135060\n",
              "4     U1068               2   135104\n",
              "...     ...             ...      ...\n",
              "1156  U1043               1   132630\n",
              "1157  U1011               0   132715\n",
              "1158  U1068               0   132733\n",
              "1159  U1068               1   132594\n",
              "1160  U1068               0   132660\n",
              "\n",
              "[1161 rows x 3 columns]"
            ]
          },
          "execution_count": 50,
          "metadata": {},
          "output_type": "execute_result"
        }
      ],
      "source": [
        "matriz_ratings_service"
      ]
    },
    {
      "cell_type": "code",
      "execution_count": null,
      "metadata": {
        "id": "gtaf5rUfcjgX",
        "outputId": "ca2d17e3-d218-44de-e898-c19b869380fd"
      },
      "outputs": [
        {
          "data": {
            "text/html": [
              "<div>\n",
              "<style scoped>\n",
              "    .dataframe tbody tr th:only-of-type {\n",
              "        vertical-align: middle;\n",
              "    }\n",
              "\n",
              "    .dataframe tbody tr th {\n",
              "        vertical-align: top;\n",
              "    }\n",
              "\n",
              "    .dataframe thead th {\n",
              "        text-align: right;\n",
              "    }\n",
              "</style>\n",
              "<table border=\"1\" class=\"dataframe\">\n",
              "  <thead>\n",
              "    <tr style=\"text-align: right;\">\n",
              "      <th></th>\n",
              "      <th>name</th>\n",
              "      <th>placeID</th>\n",
              "    </tr>\n",
              "  </thead>\n",
              "  <tbody>\n",
              "    <tr>\n",
              "      <th>0</th>\n",
              "      <td>Kiku Cuernavaca</td>\n",
              "      <td>134999</td>\n",
              "    </tr>\n",
              "    <tr>\n",
              "      <th>1</th>\n",
              "      <td>puesto de tacos</td>\n",
              "      <td>132825</td>\n",
              "    </tr>\n",
              "    <tr>\n",
              "      <th>2</th>\n",
              "      <td>El Rincón de San Francisco</td>\n",
              "      <td>135106</td>\n",
              "    </tr>\n",
              "    <tr>\n",
              "      <th>3</th>\n",
              "      <td>little pizza Emilio Portes Gil</td>\n",
              "      <td>132667</td>\n",
              "    </tr>\n",
              "    <tr>\n",
              "      <th>4</th>\n",
              "      <td>carnitas_mata</td>\n",
              "      <td>132613</td>\n",
              "    </tr>\n",
              "    <tr>\n",
              "      <th>...</th>\n",
              "      <td>...</td>\n",
              "      <td>...</td>\n",
              "    </tr>\n",
              "    <tr>\n",
              "      <th>125</th>\n",
              "      <td>Chaires</td>\n",
              "      <td>132866</td>\n",
              "    </tr>\n",
              "    <tr>\n",
              "      <th>126</th>\n",
              "      <td>Sushi Itto</td>\n",
              "      <td>135072</td>\n",
              "    </tr>\n",
              "    <tr>\n",
              "      <th>127</th>\n",
              "      <td>Paniroles</td>\n",
              "      <td>135109</td>\n",
              "    </tr>\n",
              "    <tr>\n",
              "      <th>128</th>\n",
              "      <td>Restaurant Bar Coty y Pablo</td>\n",
              "      <td>135019</td>\n",
              "    </tr>\n",
              "    <tr>\n",
              "      <th>129</th>\n",
              "      <td>sirloin stockade</td>\n",
              "      <td>132877</td>\n",
              "    </tr>\n",
              "  </tbody>\n",
              "</table>\n",
              "<p>130 rows × 2 columns</p>\n",
              "</div>"
            ],
            "text/plain": [
              "                               name  placeID\n",
              "0                   Kiku Cuernavaca   134999\n",
              "1                   puesto de tacos   132825\n",
              "2        El Rincón de San Francisco   135106\n",
              "3    little pizza Emilio Portes Gil   132667\n",
              "4                     carnitas_mata   132613\n",
              "..                              ...      ...\n",
              "125                         Chaires   132866\n",
              "126                      Sushi Itto   135072\n",
              "127                       Paniroles   135109\n",
              "128     Restaurant Bar Coty y Pablo   135019\n",
              "129                sirloin stockade   132877\n",
              "\n",
              "[130 rows x 2 columns]"
            ]
          },
          "execution_count": 51,
          "metadata": {},
          "output_type": "execute_result"
        }
      ],
      "source": [
        "matriz_geo_service"
      ]
    },
    {
      "cell_type": "code",
      "execution_count": null,
      "metadata": {
        "id": "bw_jKtiuhAp6",
        "outputId": "7e378621-0c8a-455b-8cac-4a609e67cc19"
      },
      "outputs": [
        {
          "data": {
            "text/html": [
              "<div>\n",
              "<style scoped>\n",
              "    .dataframe tbody tr th:only-of-type {\n",
              "        vertical-align: middle;\n",
              "    }\n",
              "\n",
              "    .dataframe tbody tr th {\n",
              "        vertical-align: top;\n",
              "    }\n",
              "\n",
              "    .dataframe thead th {\n",
              "        text-align: right;\n",
              "    }\n",
              "</style>\n",
              "<table border=\"1\" class=\"dataframe\">\n",
              "  <thead>\n",
              "    <tr style=\"text-align: right;\">\n",
              "      <th></th>\n",
              "      <th>name</th>\n",
              "      <th>placeID</th>\n",
              "      <th>userID</th>\n",
              "      <th>service_rating</th>\n",
              "    </tr>\n",
              "  </thead>\n",
              "  <tbody>\n",
              "    <tr>\n",
              "      <th>0</th>\n",
              "      <td>Kiku Cuernavaca</td>\n",
              "      <td>134999</td>\n",
              "      <td>U1093</td>\n",
              "      <td>2</td>\n",
              "    </tr>\n",
              "    <tr>\n",
              "      <th>1</th>\n",
              "      <td>Kiku Cuernavaca</td>\n",
              "      <td>134999</td>\n",
              "      <td>U1066</td>\n",
              "      <td>1</td>\n",
              "    </tr>\n",
              "    <tr>\n",
              "      <th>2</th>\n",
              "      <td>Kiku Cuernavaca</td>\n",
              "      <td>134999</td>\n",
              "      <td>U1040</td>\n",
              "      <td>1</td>\n",
              "    </tr>\n",
              "    <tr>\n",
              "      <th>3</th>\n",
              "      <td>Kiku Cuernavaca</td>\n",
              "      <td>134999</td>\n",
              "      <td>U1110</td>\n",
              "      <td>2</td>\n",
              "    </tr>\n",
              "    <tr>\n",
              "      <th>4</th>\n",
              "      <td>Kiku Cuernavaca</td>\n",
              "      <td>134999</td>\n",
              "      <td>U1121</td>\n",
              "      <td>2</td>\n",
              "    </tr>\n",
              "    <tr>\n",
              "      <th>...</th>\n",
              "      <td>...</td>\n",
              "      <td>...</td>\n",
              "      <td>...</td>\n",
              "      <td>...</td>\n",
              "    </tr>\n",
              "    <tr>\n",
              "      <th>1156</th>\n",
              "      <td>Restaurant Bar Coty y Pablo</td>\n",
              "      <td>135019</td>\n",
              "      <td>U1121</td>\n",
              "      <td>2</td>\n",
              "    </tr>\n",
              "    <tr>\n",
              "      <th>1157</th>\n",
              "      <td>sirloin stockade</td>\n",
              "      <td>132877</td>\n",
              "      <td>U1047</td>\n",
              "      <td>0</td>\n",
              "    </tr>\n",
              "    <tr>\n",
              "      <th>1158</th>\n",
              "      <td>sirloin stockade</td>\n",
              "      <td>132877</td>\n",
              "      <td>U1111</td>\n",
              "      <td>1</td>\n",
              "    </tr>\n",
              "    <tr>\n",
              "      <th>1159</th>\n",
              "      <td>sirloin stockade</td>\n",
              "      <td>132877</td>\n",
              "      <td>U1015</td>\n",
              "      <td>2</td>\n",
              "    </tr>\n",
              "    <tr>\n",
              "      <th>1160</th>\n",
              "      <td>sirloin stockade</td>\n",
              "      <td>132877</td>\n",
              "      <td>U1025</td>\n",
              "      <td>1</td>\n",
              "    </tr>\n",
              "  </tbody>\n",
              "</table>\n",
              "<p>1161 rows × 4 columns</p>\n",
              "</div>"
            ],
            "text/plain": [
              "                             name  placeID userID  service_rating\n",
              "0                 Kiku Cuernavaca   134999  U1093               2\n",
              "1                 Kiku Cuernavaca   134999  U1066               1\n",
              "2                 Kiku Cuernavaca   134999  U1040               1\n",
              "3                 Kiku Cuernavaca   134999  U1110               2\n",
              "4                 Kiku Cuernavaca   134999  U1121               2\n",
              "...                           ...      ...    ...             ...\n",
              "1156  Restaurant Bar Coty y Pablo   135019  U1121               2\n",
              "1157             sirloin stockade   132877  U1047               0\n",
              "1158             sirloin stockade   132877  U1111               1\n",
              "1159             sirloin stockade   132877  U1015               2\n",
              "1160             sirloin stockade   132877  U1025               1\n",
              "\n",
              "[1161 rows x 4 columns]"
            ]
          },
          "execution_count": 52,
          "metadata": {},
          "output_type": "execute_result"
        }
      ],
      "source": [
        "tabla_relacional_service = pd.merge(matriz_geo_service,matriz_ratings_service, on='placeID')   # dataFrame\n",
        "tabla_relacional_service"
      ]
    },
    {
      "cell_type": "code",
      "execution_count": null,
      "metadata": {
        "id": "teSR3xUphAp6",
        "outputId": "dbc66be7-7403-4ad7-ca5d-139770c51361"
      },
      "outputs": [
        {
          "data": {
            "text/html": [
              "<div>\n",
              "<style scoped>\n",
              "    .dataframe tbody tr th:only-of-type {\n",
              "        vertical-align: middle;\n",
              "    }\n",
              "\n",
              "    .dataframe tbody tr th {\n",
              "        vertical-align: top;\n",
              "    }\n",
              "\n",
              "    .dataframe thead th {\n",
              "        text-align: right;\n",
              "    }\n",
              "</style>\n",
              "<table border=\"1\" class=\"dataframe\">\n",
              "  <thead>\n",
              "    <tr style=\"text-align: right;\">\n",
              "      <th>name</th>\n",
              "      <th>Abondance Restaurante Bar</th>\n",
              "      <th>Arrachela Grill</th>\n",
              "      <th>Cabana Huasteca</th>\n",
              "      <th>Cafe Chaires</th>\n",
              "      <th>Cafeteria cenidet</th>\n",
              "      <th>Cafeteria y Restaurant El Pacifico</th>\n",
              "      <th>Carls Jr</th>\n",
              "      <th>Carnitas Mata  Calle 16 de Septiembre</th>\n",
              "      <th>Carreton de Flautas y Migadas</th>\n",
              "      <th>Cenaduria El RincÃ³n de Tlaquepaque</th>\n",
              "      <th>...</th>\n",
              "      <th>puesto de tacos</th>\n",
              "      <th>rockabilly</th>\n",
              "      <th>shi ro ie</th>\n",
              "      <th>sirloin stockade</th>\n",
              "      <th>tacos abi</th>\n",
              "      <th>tacos de barbacoa enfrente del Tec</th>\n",
              "      <th>tacos de la estacion</th>\n",
              "      <th>tacos los volcanes</th>\n",
              "      <th>tortas hawai</th>\n",
              "      <th>vips</th>\n",
              "    </tr>\n",
              "    <tr>\n",
              "      <th>userID</th>\n",
              "      <th></th>\n",
              "      <th></th>\n",
              "      <th></th>\n",
              "      <th></th>\n",
              "      <th></th>\n",
              "      <th></th>\n",
              "      <th></th>\n",
              "      <th></th>\n",
              "      <th></th>\n",
              "      <th></th>\n",
              "      <th></th>\n",
              "      <th></th>\n",
              "      <th></th>\n",
              "      <th></th>\n",
              "      <th></th>\n",
              "      <th></th>\n",
              "      <th></th>\n",
              "      <th></th>\n",
              "      <th></th>\n",
              "      <th></th>\n",
              "      <th></th>\n",
              "    </tr>\n",
              "  </thead>\n",
              "  <tbody>\n",
              "    <tr>\n",
              "      <th>U1001</th>\n",
              "      <td>0</td>\n",
              "      <td>0</td>\n",
              "      <td>0</td>\n",
              "      <td>0</td>\n",
              "      <td>0</td>\n",
              "      <td>0</td>\n",
              "      <td>0</td>\n",
              "      <td>0</td>\n",
              "      <td>0</td>\n",
              "      <td>0</td>\n",
              "      <td>...</td>\n",
              "      <td>1</td>\n",
              "      <td>0</td>\n",
              "      <td>0</td>\n",
              "      <td>0</td>\n",
              "      <td>0</td>\n",
              "      <td>0</td>\n",
              "      <td>0</td>\n",
              "      <td>0</td>\n",
              "      <td>0</td>\n",
              "      <td>0</td>\n",
              "    </tr>\n",
              "    <tr>\n",
              "      <th>U1002</th>\n",
              "      <td>0</td>\n",
              "      <td>0</td>\n",
              "      <td>0</td>\n",
              "      <td>0</td>\n",
              "      <td>0</td>\n",
              "      <td>0</td>\n",
              "      <td>0</td>\n",
              "      <td>0</td>\n",
              "      <td>0</td>\n",
              "      <td>0</td>\n",
              "      <td>...</td>\n",
              "      <td>0</td>\n",
              "      <td>0</td>\n",
              "      <td>0</td>\n",
              "      <td>0</td>\n",
              "      <td>0</td>\n",
              "      <td>0</td>\n",
              "      <td>0</td>\n",
              "      <td>0</td>\n",
              "      <td>0</td>\n",
              "      <td>0</td>\n",
              "    </tr>\n",
              "    <tr>\n",
              "      <th>U1003</th>\n",
              "      <td>0</td>\n",
              "      <td>0</td>\n",
              "      <td>2</td>\n",
              "      <td>0</td>\n",
              "      <td>0</td>\n",
              "      <td>0</td>\n",
              "      <td>0</td>\n",
              "      <td>0</td>\n",
              "      <td>0</td>\n",
              "      <td>0</td>\n",
              "      <td>...</td>\n",
              "      <td>1</td>\n",
              "      <td>1</td>\n",
              "      <td>0</td>\n",
              "      <td>0</td>\n",
              "      <td>0</td>\n",
              "      <td>0</td>\n",
              "      <td>0</td>\n",
              "      <td>0</td>\n",
              "      <td>0</td>\n",
              "      <td>0</td>\n",
              "    </tr>\n",
              "    <tr>\n",
              "      <th>U1004</th>\n",
              "      <td>0</td>\n",
              "      <td>0</td>\n",
              "      <td>0</td>\n",
              "      <td>0</td>\n",
              "      <td>0</td>\n",
              "      <td>2</td>\n",
              "      <td>0</td>\n",
              "      <td>0</td>\n",
              "      <td>0</td>\n",
              "      <td>0</td>\n",
              "      <td>...</td>\n",
              "      <td>0</td>\n",
              "      <td>0</td>\n",
              "      <td>0</td>\n",
              "      <td>0</td>\n",
              "      <td>0</td>\n",
              "      <td>0</td>\n",
              "      <td>0</td>\n",
              "      <td>2</td>\n",
              "      <td>0</td>\n",
              "      <td>0</td>\n",
              "    </tr>\n",
              "    <tr>\n",
              "      <th>U1005</th>\n",
              "      <td>0</td>\n",
              "      <td>0</td>\n",
              "      <td>0</td>\n",
              "      <td>0</td>\n",
              "      <td>0</td>\n",
              "      <td>2</td>\n",
              "      <td>0</td>\n",
              "      <td>0</td>\n",
              "      <td>0</td>\n",
              "      <td>0</td>\n",
              "      <td>...</td>\n",
              "      <td>0</td>\n",
              "      <td>0</td>\n",
              "      <td>0</td>\n",
              "      <td>0</td>\n",
              "      <td>0</td>\n",
              "      <td>0</td>\n",
              "      <td>0</td>\n",
              "      <td>0</td>\n",
              "      <td>0</td>\n",
              "      <td>0</td>\n",
              "    </tr>\n",
              "    <tr>\n",
              "      <th>U1006</th>\n",
              "      <td>0</td>\n",
              "      <td>0</td>\n",
              "      <td>0</td>\n",
              "      <td>1</td>\n",
              "      <td>0</td>\n",
              "      <td>0</td>\n",
              "      <td>0</td>\n",
              "      <td>0</td>\n",
              "      <td>0</td>\n",
              "      <td>0</td>\n",
              "      <td>...</td>\n",
              "      <td>1</td>\n",
              "      <td>0</td>\n",
              "      <td>2</td>\n",
              "      <td>0</td>\n",
              "      <td>0</td>\n",
              "      <td>0</td>\n",
              "      <td>0</td>\n",
              "      <td>0</td>\n",
              "      <td>0</td>\n",
              "      <td>0</td>\n",
              "    </tr>\n",
              "    <tr>\n",
              "      <th>U1007</th>\n",
              "      <td>0</td>\n",
              "      <td>0</td>\n",
              "      <td>0</td>\n",
              "      <td>1</td>\n",
              "      <td>0</td>\n",
              "      <td>0</td>\n",
              "      <td>0</td>\n",
              "      <td>0</td>\n",
              "      <td>0</td>\n",
              "      <td>0</td>\n",
              "      <td>...</td>\n",
              "      <td>0</td>\n",
              "      <td>0</td>\n",
              "      <td>0</td>\n",
              "      <td>0</td>\n",
              "      <td>0</td>\n",
              "      <td>0</td>\n",
              "      <td>0</td>\n",
              "      <td>0</td>\n",
              "      <td>0</td>\n",
              "      <td>0</td>\n",
              "    </tr>\n",
              "    <tr>\n",
              "      <th>U1008</th>\n",
              "      <td>1</td>\n",
              "      <td>0</td>\n",
              "      <td>0</td>\n",
              "      <td>0</td>\n",
              "      <td>0</td>\n",
              "      <td>0</td>\n",
              "      <td>0</td>\n",
              "      <td>0</td>\n",
              "      <td>0</td>\n",
              "      <td>0</td>\n",
              "      <td>...</td>\n",
              "      <td>0</td>\n",
              "      <td>0</td>\n",
              "      <td>0</td>\n",
              "      <td>0</td>\n",
              "      <td>0</td>\n",
              "      <td>0</td>\n",
              "      <td>0</td>\n",
              "      <td>0</td>\n",
              "      <td>0</td>\n",
              "      <td>0</td>\n",
              "    </tr>\n",
              "    <tr>\n",
              "      <th>U1009</th>\n",
              "      <td>0</td>\n",
              "      <td>0</td>\n",
              "      <td>1</td>\n",
              "      <td>0</td>\n",
              "      <td>0</td>\n",
              "      <td>0</td>\n",
              "      <td>0</td>\n",
              "      <td>0</td>\n",
              "      <td>0</td>\n",
              "      <td>0</td>\n",
              "      <td>...</td>\n",
              "      <td>0</td>\n",
              "      <td>0</td>\n",
              "      <td>0</td>\n",
              "      <td>0</td>\n",
              "      <td>0</td>\n",
              "      <td>0</td>\n",
              "      <td>0</td>\n",
              "      <td>0</td>\n",
              "      <td>0</td>\n",
              "      <td>0</td>\n",
              "    </tr>\n",
              "    <tr>\n",
              "      <th>U1010</th>\n",
              "      <td>0</td>\n",
              "      <td>0</td>\n",
              "      <td>0</td>\n",
              "      <td>0</td>\n",
              "      <td>0</td>\n",
              "      <td>0</td>\n",
              "      <td>0</td>\n",
              "      <td>0</td>\n",
              "      <td>0</td>\n",
              "      <td>0</td>\n",
              "      <td>...</td>\n",
              "      <td>0</td>\n",
              "      <td>0</td>\n",
              "      <td>0</td>\n",
              "      <td>0</td>\n",
              "      <td>0</td>\n",
              "      <td>0</td>\n",
              "      <td>0</td>\n",
              "      <td>0</td>\n",
              "      <td>0</td>\n",
              "      <td>0</td>\n",
              "    </tr>\n",
              "  </tbody>\n",
              "</table>\n",
              "<p>10 rows × 129 columns</p>\n",
              "</div>"
            ],
            "text/plain": [
              "name    Abondance Restaurante Bar  Arrachela Grill  Cabana Huasteca  \\\n",
              "userID                                                                \n",
              "U1001                           0                0                0   \n",
              "U1002                           0                0                0   \n",
              "U1003                           0                0                2   \n",
              "U1004                           0                0                0   \n",
              "U1005                           0                0                0   \n",
              "U1006                           0                0                0   \n",
              "U1007                           0                0                0   \n",
              "U1008                           1                0                0   \n",
              "U1009                           0                0                1   \n",
              "U1010                           0                0                0   \n",
              "\n",
              "name    Cafe Chaires  Cafeteria cenidet  Cafeteria y Restaurant El Pacifico  \\\n",
              "userID                                                                        \n",
              "U1001              0                  0                                   0   \n",
              "U1002              0                  0                                   0   \n",
              "U1003              0                  0                                   0   \n",
              "U1004              0                  0                                   2   \n",
              "U1005              0                  0                                   2   \n",
              "U1006              1                  0                                   0   \n",
              "U1007              1                  0                                   0   \n",
              "U1008              0                  0                                   0   \n",
              "U1009              0                  0                                   0   \n",
              "U1010              0                  0                                   0   \n",
              "\n",
              "name    Carls Jr  Carnitas Mata  Calle 16 de Septiembre  \\\n",
              "userID                                                    \n",
              "U1001          0                                      0   \n",
              "U1002          0                                      0   \n",
              "U1003          0                                      0   \n",
              "U1004          0                                      0   \n",
              "U1005          0                                      0   \n",
              "U1006          0                                      0   \n",
              "U1007          0                                      0   \n",
              "U1008          0                                      0   \n",
              "U1009          0                                      0   \n",
              "U1010          0                                      0   \n",
              "\n",
              "name    Carreton de Flautas y Migadas  Cenaduria El RincÃ³n de Tlaquepaque  \\\n",
              "userID                                                                       \n",
              "U1001                               0                                    0   \n",
              "U1002                               0                                    0   \n",
              "U1003                               0                                    0   \n",
              "U1004                               0                                    0   \n",
              "U1005                               0                                    0   \n",
              "U1006                               0                                    0   \n",
              "U1007                               0                                    0   \n",
              "U1008                               0                                    0   \n",
              "U1009                               0                                    0   \n",
              "U1010                               0                                    0   \n",
              "\n",
              "name    ...  puesto de tacos  rockabilly   shi ro ie  sirloin stockade  \\\n",
              "userID  ...                                                              \n",
              "U1001   ...                1            0          0                 0   \n",
              "U1002   ...                0            0          0                 0   \n",
              "U1003   ...                1            1          0                 0   \n",
              "U1004   ...                0            0          0                 0   \n",
              "U1005   ...                0            0          0                 0   \n",
              "U1006   ...                1            0          2                 0   \n",
              "U1007   ...                0            0          0                 0   \n",
              "U1008   ...                0            0          0                 0   \n",
              "U1009   ...                0            0          0                 0   \n",
              "U1010   ...                0            0          0                 0   \n",
              "\n",
              "name    tacos abi  tacos de barbacoa enfrente del Tec  tacos de la estacion  \\\n",
              "userID                                                                        \n",
              "U1001           0                                   0                     0   \n",
              "U1002           0                                   0                     0   \n",
              "U1003           0                                   0                     0   \n",
              "U1004           0                                   0                     0   \n",
              "U1005           0                                   0                     0   \n",
              "U1006           0                                   0                     0   \n",
              "U1007           0                                   0                     0   \n",
              "U1008           0                                   0                     0   \n",
              "U1009           0                                   0                     0   \n",
              "U1010           0                                   0                     0   \n",
              "\n",
              "name    tacos los volcanes  tortas hawai  vips  \n",
              "userID                                          \n",
              "U1001                    0             0     0  \n",
              "U1002                    0             0     0  \n",
              "U1003                    0             0     0  \n",
              "U1004                    2             0     0  \n",
              "U1005                    0             0     0  \n",
              "U1006                    0             0     0  \n",
              "U1007                    0             0     0  \n",
              "U1008                    0             0     0  \n",
              "U1009                    0             0     0  \n",
              "U1010                    0             0     0  \n",
              "\n",
              "[10 rows x 129 columns]"
            ]
          },
          "execution_count": 53,
          "metadata": {},
          "output_type": "execute_result"
        }
      ],
      "source": [
        "UtMx_service = tabla_relacional_service.pivot_table(values='service_rating', index='userID', columns='name', fill_value=0)\n",
        "\n",
        "UtMx_service.head(10)"
      ]
    },
    {
      "cell_type": "code",
      "execution_count": null,
      "metadata": {
        "id": "T38limCIhAp7",
        "outputId": "eb36a5f2-cb4a-4575-ba6d-4a126decde40"
      },
      "outputs": [
        {
          "data": {
            "text/plain": [
              "(138, 129)"
            ]
          },
          "execution_count": 54,
          "metadata": {},
          "output_type": "execute_result"
        }
      ],
      "source": [
        "UtMx_service.shape "
      ]
    },
    {
      "cell_type": "code",
      "execution_count": null,
      "metadata": {
        "id": "sQI8zgeohAp7",
        "outputId": "fa92ac37-f9ed-4ec9-b283-86b8c5a46c2d"
      },
      "outputs": [
        {
          "name": "stdout",
          "output_type": "stream",
          "text": [
            "Total de elementos de la matriz de utilidad: 17802\n",
            "Total de elementos diferentes de cero: 846\n",
            "Porcentaje de elementos diferentes de cero: 4.8%\n"
          ]
        }
      ],
      "source": [
        "print('Total de elementos de la matriz de utilidad: %d' % (UtMx_service.size))\n",
        "print('Total de elementos diferentes de cero: %d' % (np.count_nonzero(UtMx_service)))\n",
        "print('Porcentaje de elementos diferentes de cero: %.1f%%' % (100 * np.count_nonzero(UtMx_service) / UtMx_service.size))"
      ]
    },
    {
      "cell_type": "code",
      "execution_count": null,
      "metadata": {
        "id": "BAqw__sjhAp7",
        "outputId": "c2c436c0-03ec-4b1f-c251-3f9d085ce702"
      },
      "outputs": [
        {
          "data": {
            "text/plain": [
              "(129, 138)"
            ]
          },
          "execution_count": 56,
          "metadata": {},
          "output_type": "execute_result"
        }
      ],
      "source": [
        "X_service = UtMx_service.T     # Tomamos la traspuesta para que los renglones sean las películas y las columnas los usuarios.\n",
        "X_service.shape"
      ]
    },
    {
      "cell_type": "code",
      "execution_count": null,
      "metadata": {
        "id": "A_arkmv0hAp8",
        "outputId": "770104cb-581e-49a2-f67e-f7a229663522"
      },
      "outputs": [
        {
          "data": {
            "text/html": [
              "<style>#sk-container-id-3 {color: black;background-color: white;}#sk-container-id-3 pre{padding: 0;}#sk-container-id-3 div.sk-toggleable {background-color: white;}#sk-container-id-3 label.sk-toggleable__label {cursor: pointer;display: block;width: 100%;margin-bottom: 0;padding: 0.3em;box-sizing: border-box;text-align: center;}#sk-container-id-3 label.sk-toggleable__label-arrow:before {content: \"▸\";float: left;margin-right: 0.25em;color: #696969;}#sk-container-id-3 label.sk-toggleable__label-arrow:hover:before {color: black;}#sk-container-id-3 div.sk-estimator:hover label.sk-toggleable__label-arrow:before {color: black;}#sk-container-id-3 div.sk-toggleable__content {max-height: 0;max-width: 0;overflow: hidden;text-align: left;background-color: #f0f8ff;}#sk-container-id-3 div.sk-toggleable__content pre {margin: 0.2em;color: black;border-radius: 0.25em;background-color: #f0f8ff;}#sk-container-id-3 input.sk-toggleable__control:checked~div.sk-toggleable__content {max-height: 200px;max-width: 100%;overflow: auto;}#sk-container-id-3 input.sk-toggleable__control:checked~label.sk-toggleable__label-arrow:before {content: \"▾\";}#sk-container-id-3 div.sk-estimator input.sk-toggleable__control:checked~label.sk-toggleable__label {background-color: #d4ebff;}#sk-container-id-3 div.sk-label input.sk-toggleable__control:checked~label.sk-toggleable__label {background-color: #d4ebff;}#sk-container-id-3 input.sk-hidden--visually {border: 0;clip: rect(1px 1px 1px 1px);clip: rect(1px, 1px, 1px, 1px);height: 1px;margin: -1px;overflow: hidden;padding: 0;position: absolute;width: 1px;}#sk-container-id-3 div.sk-estimator {font-family: monospace;background-color: #f0f8ff;border: 1px dotted black;border-radius: 0.25em;box-sizing: border-box;margin-bottom: 0.5em;}#sk-container-id-3 div.sk-estimator:hover {background-color: #d4ebff;}#sk-container-id-3 div.sk-parallel-item::after {content: \"\";width: 100%;border-bottom: 1px solid gray;flex-grow: 1;}#sk-container-id-3 div.sk-label:hover label.sk-toggleable__label {background-color: #d4ebff;}#sk-container-id-3 div.sk-serial::before {content: \"\";position: absolute;border-left: 1px solid gray;box-sizing: border-box;top: 0;bottom: 0;left: 50%;z-index: 0;}#sk-container-id-3 div.sk-serial {display: flex;flex-direction: column;align-items: center;background-color: white;padding-right: 0.2em;padding-left: 0.2em;position: relative;}#sk-container-id-3 div.sk-item {position: relative;z-index: 1;}#sk-container-id-3 div.sk-parallel {display: flex;align-items: stretch;justify-content: center;background-color: white;position: relative;}#sk-container-id-3 div.sk-item::before, #sk-container-id-3 div.sk-parallel-item::before {content: \"\";position: absolute;border-left: 1px solid gray;box-sizing: border-box;top: 0;bottom: 0;left: 50%;z-index: -1;}#sk-container-id-3 div.sk-parallel-item {display: flex;flex-direction: column;z-index: 1;position: relative;background-color: white;}#sk-container-id-3 div.sk-parallel-item:first-child::after {align-self: flex-end;width: 50%;}#sk-container-id-3 div.sk-parallel-item:last-child::after {align-self: flex-start;width: 50%;}#sk-container-id-3 div.sk-parallel-item:only-child::after {width: 0;}#sk-container-id-3 div.sk-dashed-wrapped {border: 1px dashed gray;margin: 0 0.4em 0.5em 0.4em;box-sizing: border-box;padding-bottom: 0.4em;background-color: white;}#sk-container-id-3 div.sk-label label {font-family: monospace;font-weight: bold;display: inline-block;line-height: 1.2em;}#sk-container-id-3 div.sk-label-container {text-align: center;}#sk-container-id-3 div.sk-container {/* jupyter's `normalize.less` sets `[hidden] { display: none; }` but bootstrap.min.css set `[hidden] { display: none !important; }` so we also need the `!important` here to be able to override the default hidden behavior on the sphinx rendered scikit-learn.org. See: https://github.com/scikit-learn/scikit-learn/issues/21755 */display: inline-block !important;position: relative;}#sk-container-id-3 div.sk-text-repr-fallback {display: none;}</style><div id=\"sk-container-id-3\" class=\"sk-top-container\"><div class=\"sk-text-repr-fallback\"><pre>TruncatedSVD(n_components=137, random_state=42)</pre><b>In a Jupyter environment, please rerun this cell to show the HTML representation or trust the notebook. <br />On GitHub, the HTML representation is unable to render, please try loading this page with nbviewer.org.</b></div><div class=\"sk-container\" hidden><div class=\"sk-item\"><div class=\"sk-estimator sk-toggleable\"><input class=\"sk-toggleable__control sk-hidden--visually\" id=\"sk-estimator-id-3\" type=\"checkbox\" checked><label for=\"sk-estimator-id-3\" class=\"sk-toggleable__label sk-toggleable__label-arrow\">TruncatedSVD</label><div class=\"sk-toggleable__content\"><pre>TruncatedSVD(n_components=137, random_state=42)</pre></div></div></div></div></div>"
            ],
            "text/plain": [
              "TruncatedSVD(n_components=137, random_state=42)"
            ]
          },
          "execution_count": 57,
          "metadata": {},
          "output_type": "execute_result"
        }
      ],
      "source": [
        "SVD_service = TruncatedSVD(n_components=137, random_state=42)  \n",
        "SVD_service.fit(X_service)"
      ]
    },
    {
      "cell_type": "code",
      "execution_count": null,
      "metadata": {
        "id": "WNfRleY8hAp8",
        "outputId": "0273dc06-734e-40cb-a32e-471940286339"
      },
      "outputs": [
        {
          "name": "stdout",
          "output_type": "stream",
          "text": [
            "La cantidad de valores singulares obtenidos es de: 129\n"
          ]
        }
      ],
      "source": [
        "b=0\n",
        "for a in SVD_service.singular_values_:\n",
        "    b=b+1\n",
        "print(\"La cantidad de valores singulares obtenidos es de:\",b)"
      ]
    },
    {
      "cell_type": "code",
      "execution_count": null,
      "metadata": {
        "id": "kBYSoagqhAp9",
        "outputId": "7c3456fe-e0cd-449d-f4bc-3f91f4c4a91b"
      },
      "outputs": [
        {
          "data": {
            "text/plain": [
              "(129, 129)"
            ]
          },
          "execution_count": 59,
          "metadata": {},
          "output_type": "execute_result"
        }
      ],
      "source": [
        "resultant_matrix_service = SVD_service.fit_transform(X_service)\n",
        "resultant_matrix_service.shape"
      ]
    },
    {
      "cell_type": "code",
      "execution_count": null,
      "metadata": {
        "id": "BkJvIBoShAp9",
        "outputId": "4469f460-9e33-4ba0-c1ec-40b8adaefa9c"
      },
      "outputs": [
        {
          "data": {
            "text/plain": [
              "(129, 129)"
            ]
          },
          "execution_count": 60,
          "metadata": {},
          "output_type": "execute_result"
        }
      ],
      "source": [
        "corrMx_service = np.corrcoef(resultant_matrix_service, )\n",
        "corrMx_service.shape"
      ]
    },
    {
      "cell_type": "code",
      "execution_count": null,
      "metadata": {
        "id": "YWJUp97ghAp-",
        "outputId": "84ca0724-917f-4f8a-ede1-fdf44413137e"
      },
      "outputs": [
        {
          "data": {
            "text/plain": [
              "88"
            ]
          },
          "execution_count": 61,
          "metadata": {},
          "output_type": "execute_result"
        }
      ],
      "source": [
        "me_gusta_service = \"Subway\"\n",
        "\n",
        "names_service = UtMx_service.columns\n",
        "names_list_service = list(names_service)\n",
        "id_megusta_service = names_list_service.index(me_gusta_service)\n",
        "\n",
        "id_megusta_service"
      ]
    },
    {
      "cell_type": "code",
      "execution_count": null,
      "metadata": {
        "id": "KhYCjyY-hAp-",
        "outputId": "a6f284ee-5aeb-461b-c935-29d879fe3693"
      },
      "outputs": [
        {
          "name": "stdout",
          "output_type": "stream",
          "text": [
            "(129,)\n",
            "[-2.91095724e-04 -3.60361693e-03  4.17542463e-03  5.49600644e-03\n",
            "  8.22025821e-03  9.26584331e-04 -1.84324856e-04  2.08477911e-02\n",
            "  4.16661248e-04  5.49213204e-03 -9.83321202e-03  2.30697829e-01\n",
            " -7.71002964e-04 -7.78964069e-03  4.28478573e-03 -1.96660815e-03\n",
            "  6.46627016e-03  1.22858323e-02  5.23591750e-03 -3.37285475e-03\n",
            "  4.22033518e-03  1.92759594e-01  3.25932626e-03  1.31225788e-02\n",
            "  1.02856131e-02  1.08386707e-02 -2.32136875e-03  9.93522146e-03\n",
            " -8.13035667e-03  1.78740094e-01  1.27492522e-03  4.01749269e-03\n",
            "  9.93395882e-03  1.06861306e-02  1.08193009e-02  6.49374214e-03\n",
            "  2.57816306e-03  1.10159929e-02  1.62133585e-02  9.40455020e-03\n",
            "  1.04115070e-02  1.39761855e-01  4.95429442e-03  1.01065382e-02\n",
            "  7.45513647e-03  1.62758051e-02  3.65933684e-01 -4.53806898e-03\n",
            "  1.94095851e-03  6.28735982e-03  7.08759527e-03  4.35778543e-03\n",
            "  7.61149284e-03  6.86889327e-03  1.82869479e-01  2.26266242e-01\n",
            "  8.41417946e-03 -1.38744406e-02  7.72973139e-01  2.58304203e-04\n",
            "  6.00160625e-01  1.00855481e-02 -8.87397356e-03  5.37102617e-03\n",
            "  9.70530131e-03  7.08173024e-03  8.06957518e-03 -5.45053917e-03\n",
            "  1.25456353e-02  8.27983430e-03  1.25915854e-03  9.13235634e-03\n",
            " -4.90925954e-03 -1.55909907e-03  2.56719712e-04 -6.13210589e-04\n",
            "  2.33141129e-03 -2.84236088e-03  1.34229000e-02  8.54134908e-03\n",
            " -1.95914298e-03 -5.67817255e-03 -1.88379679e-03 -4.53066053e-03\n",
            "  6.90749795e-03  5.18731471e-01  1.27712441e-01  7.79875544e-03\n",
            "  1.00000000e+00  4.34972686e-03  8.04472608e-03  6.45175638e-03\n",
            "  1.22023121e-03 -4.61635454e-03  6.39825008e-03 -3.57085063e-05\n",
            "  1.83854290e-02  4.21199865e-01  1.79626257e-02  1.24610098e-03\n",
            "  1.08222404e-03  4.99735712e-03 -2.30140973e-03  1.04895738e-02\n",
            "  1.77207012e-02  2.00752244e-03  5.47674807e-03  6.21699772e-03\n",
            "  5.79785841e-03  7.94287249e-03 -3.95650667e-03  8.62442429e-04\n",
            "  7.08373006e-03  1.23364795e-02  2.16018684e-04  5.50503399e-03\n",
            "  8.88686634e-03 -2.03244541e-03 -3.76225432e-03 -1.21854452e-03\n",
            "  8.12542032e-03  1.30362979e-02  7.65454017e-03  3.31990513e-03\n",
            "  6.15048940e-03  8.03179308e-03  9.69117004e-03 -1.69077232e-03\n",
            "  6.83466681e-03]\n"
          ]
        }
      ],
      "source": [
        "corr_recomienda_service = corrMx_service[id_megusta_service]\n",
        "print(corr_recomienda_service.shape)\n",
        "print(corr_recomienda_service)"
      ]
    },
    {
      "cell_type": "code",
      "execution_count": null,
      "metadata": {
        "id": "IOfqr6OhhAp_",
        "outputId": "82a5b4a9-90ac-4fe8-b011-cb9ba903dcc7"
      },
      "outputs": [
        {
          "data": {
            "text/plain": [
              "1.0"
            ]
          },
          "execution_count": 63,
          "metadata": {},
          "output_type": "execute_result"
        }
      ],
      "source": [
        "corr_recomienda_service[id_megusta_service]\n"
      ]
    },
    {
      "cell_type": "code",
      "execution_count": null,
      "metadata": {
        "id": "PeIpXkwLhAp_",
        "outputId": "11ff7ae4-f278-4e12-9682-a430d69eaa4b"
      },
      "outputs": [
        {
          "data": {
            "text/plain": [
              "['Chilis Cuernavaca',\n",
              " 'Giovannis',\n",
              " 'Kiku Cuernavaca',\n",
              " 'Paniroles',\n",
              " 'Restaurant Familiar El Chino',\n",
              " 'Restaurant Las Mananitas',\n",
              " 'Restaurant Teely',\n",
              " 'Restaurant and Bar and Clothesline Carlos N Charlies',\n",
              " 'Rincon del Bife',\n",
              " 'Vips']"
            ]
          },
          "execution_count": 64,
          "metadata": {},
          "output_type": "execute_result"
        }
      ],
      "source": [
        "mejores10_service = list(names_service[(corr_recomienda_service > 0.15)& (corr_recomienda_service < 1)])\n",
        "mejores10_service"
      ]
    },
    {
      "cell_type": "code",
      "execution_count": null,
      "metadata": {
        "id": "lcDwjq7IhAqA",
        "outputId": "acc4802f-c334-4144-8c21-a4501a8fc2ad"
      },
      "outputs": [
        {
          "data": {
            "text/plain": [
              "[0.23069782868565766,\n",
              " 0.19275959390458483,\n",
              " 0.17874009403033436,\n",
              " 0.36593368424534367,\n",
              " 0.18286947897963024,\n",
              " 0.2262662422342514,\n",
              " 0.772973138691839,\n",
              " 0.6001606252966748,\n",
              " 0.5187314706565791,\n",
              " 0.4211998645650437]"
            ]
          },
          "execution_count": 65,
          "metadata": {},
          "output_type": "execute_result"
        }
      ],
      "source": [
        "list(corr_recomienda_service[(corr_recomienda_service > 0.15)& (corr_recomienda_service < 1)])\n"
      ]
    },
    {
      "cell_type": "code",
      "execution_count": null,
      "metadata": {
        "id": "vWGVarSBhAqB",
        "outputId": "78b9e8ef-3901-4802-a130-6adb2c3bd336"
      },
      "outputs": [
        {
          "name": "stdout",
          "output_type": "stream",
          "text": [
            "Longitud de la segunda lista de recomendaciones: 10 \n",
            "\n",
            "Número de recomendaciones que son iguales entre la lista con valores singulares full y la segunda lista: 9\n",
            "\n",
            "Cantidad de información simplificada con los primeros 47 vectores singulares:\n",
            "29.9%\n"
          ]
        }
      ],
      "source": [
        "def busqueda_SVD(n,X,id_megusta,mejores10): \n",
        "    \n",
        "    SVD = TruncatedSVD(n_components=137, random_state=1)  \n",
        "    SVD.fit(X)\n",
        "    \n",
        "    \n",
        "    SVD_busqueda = TruncatedSVD(n_components=n, random_state=42) \n",
        "    SVD_busqueda.fit(X)\n",
        "    resultant_matrix_busqueda= SVD_busqueda.fit_transform(X)\n",
        "    corrMx_busqueda = np.corrcoef(resultant_matrix_busqueda, )\n",
        "    corr_recomienda_busqueda = corrMx_busqueda[id_megusta]\n",
        "    comparacion_mejores = list(names[(corr_recomienda_busqueda > 0.18)& (corr_recomienda_busqueda < 1)])\n",
        "    print(\"Longitud de la segunda lista de recomendaciones:\",len(comparacion_mejores),\"\\n\")\n",
        "    print(\"Número de recomendaciones que son iguales entre la lista con valores singulares full y la segunda lista:\",len(set(mejores10).intersection(comparacion_mejores)))\n",
        "    print('\\nCantidad de información simplificada con los primeros %d vectores singulares:' % n)\n",
        "    print('%.1f%%' %  (100 * (1- (SVD.singular_values_[0:n]).sum() / (SVD.singular_values_).sum())))\n",
        "    return \n",
        "\n",
        "busqueda_SVD(47,X_service,id_megusta_service,mejores10_service)"
      ]
    },
    {
      "cell_type": "markdown",
      "metadata": {
        "id": "q_TzjTCNhAqB"
      },
      "source": [
        "**Conclusiones del ejercicio 7**- En este caso, hubo una variación mediana si comparamos Subway Ratings Comida vs Subway Ratings Servicio, en el primer caso, necesitamos 72 valores singulares y en este caso estamos necesitando 47. Esto significa que la cantidad de información que podemos reducir, para ratings_service, es mucho mayor que comparada para los ratings_food, pues  pudimos reducir hasta un 29.9%. Desafortunadamente los porcentajes de correlación tuvimos que bajarlos aún más para poder tener una eficacia del 90%, pues llegamos hasta el 18%."
      ]
    },
    {
      "cell_type": "markdown",
      "metadata": {
        "id": "9h9eDt6fcmBN"
      },
      "source": [
        "#**Ejercicio-8.**\n",
        "\n",
        "8. Incluye tus conclusiones finales. En particular indica la coincidencia o no de estos tres modelos.\n",
        "\n",
        "**Conclusiones** - Inicialmente, hicimos un análisis rápido de los datos con el .describe(), sobre todo tratando de entender cómo se comportaban los ratings generales, de comida y de servicio. A continuación una imagen del análisis:\n",
        "\n",
        "![Captura%20de%20pantalla%202022-11-15%20a%20la%28s%29%2019.17.11.png](attachment:Captura%20de%20pantalla%202022-11-15%20a%20la%28s%29%2019.17.11.png)\n",
        "\n",
        "En este análisis, podemos ver que tanto la media como la desviación estándar de los 3 ratings tienen valores muy parecidos. De igual manera sus valores mínimos y máximos son similares. Esto inicialmente pudiera darnos la conclusión de que utilizar las 3 columnas en diferentes columnas de utilidad tendría la misma dificultad/facilidad.\n",
        "\n",
        "Sin embargo, ahora sabemos que para interactuar con este tipo de métodos y de aprendizajes no supervisados, hay que evaluar la verdadera data relevante que tenemos en las matrices de utilidad. Los 3 ejercicios estuvieron en niveles relativamente bajos, entre 4.8 y 5.1%. Otra variable a tomar en cuenta, es que en este caso estuvimos trabajando con restaurantes específicos, como Subway y los famosos tacos enfrente del Tec. La participación de estos restaurantes dentro de los distintos usuarios fue muy variada, y es por eso que en todos los casos tuvimos que utilizar más o menos componentes para poder tener una predicción del 90%.\n",
        "\n",
        "**En esta gráfica escribimos los resultados que obtuvimos en los últimos 4 ejercicios:**\n",
        "\n",
        "\n"
      ]
    },
    {
      "cell_type": "markdown",
      "metadata": {
        "id": "4gGN93qAhAqC"
      },
      "source": [
        "![Captura%20de%20pantalla%202022-11-15%20a%20la%28s%29%2019.31.19.png](attachment:Captura%20de%20pantalla%202022-11-15%20a%20la%28s%29%2019.31.19.png)\n",
        "\n",
        "En la misma, podemos ver que tuvimos casos variados, en los cuales necesitamos pocos y muchos valores singulares para llegar al 90% de precisión, inclusive en el rating general pudimos ver que la variación es muy alta, comparado con el restaurante que estemos trabajando.\n",
        "\n",
        "Otro aspecto a analizar es el porcentaje de correlación necesaria para alcanzar la precisión del 90%. En la mayoría de los casos, tuvimos que trabajar con porcentajes de correlación muy bajos -entre 17 y 25%-, lo cual indica que las predicciones que estamos obteniendo, ya sea con muchos o pocos valores singulares, en realidad no tienen tanta relación. Caso distinto cuando usamos todos los componentes (137), obtuvimos un valor de correlación de las 10 mejores recomendaciones con un valor mayor a 0.99\n",
        "\n",
        "Por lo tanto podemos concluir que la coincidencia de todos los modelos no fue muy alta, pero eso es bueno porque al final de cuentas estamos trabajando con ratings muy diferentes, si indicaran lo mismo, entonces significaría que bastara una para poder hacer una clasificación general, y en este punto si implementamos el servicio, si le estaremos entregando diferentes recomendaciones a los clientes, dependiendo si ellos prefirieran priorizar el servicio o la comida. Técnicamente hablando, consideramos que deberíamos utilizar más de la mitad de los valores singulares originales si queremos obtener recomendaciones con valores de correlación altos."
      ]
    },
    {
      "cell_type": "markdown",
      "metadata": {
        "id": "7ql_r2G-DB_m"
      },
      "source": [
        "###**Fin de la Actividad de la semana 10 - Sistemas de Recomendación y Reducción de Dimensionalidad con SVD.**"
      ]
    }
  ],
  "metadata": {
    "colab": {
      "provenance": [],
      "include_colab_link": true
    },
    "kernelspec": {
      "display_name": "Python 3 (ipykernel)",
      "language": "python",
      "name": "python3"
    },
    "language_info": {
      "codemirror_mode": {
        "name": "ipython",
        "version": 3
      },
      "file_extension": ".py",
      "mimetype": "text/x-python",
      "name": "python",
      "nbconvert_exporter": "python",
      "pygments_lexer": "ipython3",
      "version": "3.10.5"
    }
  },
  "nbformat": 4,
  "nbformat_minor": 0
}